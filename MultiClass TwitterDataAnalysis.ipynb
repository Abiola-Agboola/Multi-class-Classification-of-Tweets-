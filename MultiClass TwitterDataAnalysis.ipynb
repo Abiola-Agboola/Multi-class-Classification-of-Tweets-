{
 "cells": [
  {
   "cell_type": "markdown",
   "id": "fd2b7af5",
   "metadata": {},
   "source": [
    "# CETM47 - Assignment 2\n",
    "## Student Name: Agboola Abiola Abigial\n",
    "## Student Code: 229256617 "
   ]
  },
  {
   "cell_type": "code",
   "execution_count": 1,
   "id": "336fd296",
   "metadata": {},
   "outputs": [
    {
     "name": "stderr",
     "output_type": "stream",
     "text": [
      "C:\\Users\\itele uk\\anaconda3\\lib\\site-packages\\_distutils_hack\\__init__.py:33: UserWarning: Setuptools is replacing distutils.\n",
      "  warnings.warn(\"Setuptools is replacing distutils.\")\n",
      "[nltk_data] Downloading package wordnet to C:\\Users\\itele\n",
      "[nltk_data]     uk\\AppData\\Roaming\\nltk_data...\n",
      "[nltk_data]   Package wordnet is already up-to-date!\n",
      "[nltk_data] Downloading package punkt to C:\\Users\\itele\n",
      "[nltk_data]     uk\\AppData\\Roaming\\nltk_data...\n",
      "[nltk_data]   Package punkt is already up-to-date!\n",
      "[nltk_data] Downloading package averaged_perceptron_tagger to\n",
      "[nltk_data]     C:\\Users\\itele uk\\AppData\\Roaming\\nltk_data...\n",
      "[nltk_data]   Package averaged_perceptron_tagger is already up-to-\n",
      "[nltk_data]       date!\n",
      "[nltk_data] Downloading package maxent_ne_chunker to C:\\Users\\itele\n",
      "[nltk_data]     uk\\AppData\\Roaming\\nltk_data...\n",
      "[nltk_data]   Package maxent_ne_chunker is already up-to-date!\n",
      "[nltk_data] Downloading package words to C:\\Users\\itele\n",
      "[nltk_data]     uk\\AppData\\Roaming\\nltk_data...\n",
      "[nltk_data]   Package words is already up-to-date!\n",
      "[nltk_data] Downloading package wordnet to C:\\Users\\itele\n",
      "[nltk_data]     uk\\AppData\\Roaming\\nltk_data...\n",
      "[nltk_data]   Package wordnet is already up-to-date!\n",
      "[nltk_data] Downloading package stopwords to C:\\Users\\itele\n",
      "[nltk_data]     uk\\AppData\\Roaming\\nltk_data...\n",
      "[nltk_data]   Package stopwords is already up-to-date!\n",
      "[nltk_data] Downloading package omw-1.4 to C:\\Users\\itele\n",
      "[nltk_data]     uk\\AppData\\Roaming\\nltk_data...\n",
      "[nltk_data]   Package omw-1.4 is already up-to-date!\n",
      "[nltk_data] Downloading package vader_lexicon to C:\\Users\\itele\n",
      "[nltk_data]     uk\\AppData\\Roaming\\nltk_data...\n",
      "[nltk_data]   Package vader_lexicon is already up-to-date!\n",
      "WARNING: pip is being invoked by an old script wrapper. This will fail in a future version of pip.\n",
      "Please see https://github.com/pypa/pip/issues/5599 for advice on fixing the underlying issue.\n",
      "To avoid this problem you can invoke Python with '-m pip' instead of running pip directly.\n"
     ]
    },
    {
     "data": {
      "text/html": [
       "<pre style=\"white-space:pre;overflow-x:auto;line-height:normal;font-family:Menlo,'DejaVu Sans Mono',consolas,'Courier New',monospace\">Requirement already satisfied: tweet-preprocessor in c:\\users\\itele uk\\anaconda3\\lib\\site-packages (0.6.0)\n",
       "</pre>\n"
      ],
      "text/plain": [
       "Requirement already satisfied: tweet-preprocessor in c:\\users\\itele uk\\anaconda3\\lib\\site-packages (0.6.0)\n"
      ]
     },
     "metadata": {},
     "output_type": "display_data"
    },
    {
     "name": "stderr",
     "output_type": "stream",
     "text": [
      "WARNING: pip is being invoked by an old script wrapper. This will fail in a future version of pip.\n",
      "Please see https://github.com/pypa/pip/issues/5599 for advice on fixing the underlying issue.\n",
      "To avoid this problem you can invoke Python with '-m pip' instead of running pip directly.\n"
     ]
    },
    {
     "data": {
      "text/html": [
       "<pre style=\"white-space:pre;overflow-x:auto;line-height:normal;font-family:Menlo,'DejaVu Sans Mono',consolas,'Courier New',monospace\">Requirement already satisfied: wordcloud in c:\\users\\itele uk\\anaconda3\\lib\\site-packages (1.9.1.1)\n",
       "</pre>\n"
      ],
      "text/plain": [
       "Requirement already satisfied: wordcloud in c:\\users\\itele uk\\anaconda3\\lib\\site-packages (1.9.1.1)\n"
      ]
     },
     "metadata": {},
     "output_type": "display_data"
    },
    {
     "data": {
      "text/html": [
       "<pre style=\"white-space:pre;overflow-x:auto;line-height:normal;font-family:Menlo,'DejaVu Sans Mono',consolas,'Courier New',monospace\">Requirement already satisfied: numpy&gt;=1.6.1 in c:\\users\\itele uk\\anaconda3\\lib\\site-packages (from wordcloud) (1.23.5)\n",
       "</pre>\n"
      ],
      "text/plain": [
       "Requirement already satisfied: numpy>=1.6.1 in c:\\users\\itele uk\\anaconda3\\lib\\site-packages (from wordcloud) (1.23.5)\n"
      ]
     },
     "metadata": {},
     "output_type": "display_data"
    },
    {
     "data": {
      "text/html": [
       "<pre style=\"white-space:pre;overflow-x:auto;line-height:normal;font-family:Menlo,'DejaVu Sans Mono',consolas,'Courier New',monospace\">Requirement already satisfied: matplotlib in c:\\users\\itele uk\\anaconda3\\lib\\site-packages (from wordcloud) (3.7.0)\n",
       "</pre>\n"
      ],
      "text/plain": [
       "Requirement already satisfied: matplotlib in c:\\users\\itele uk\\anaconda3\\lib\\site-packages (from wordcloud) (3.7.0)\n"
      ]
     },
     "metadata": {},
     "output_type": "display_data"
    },
    {
     "data": {
      "text/html": [
       "<pre style=\"white-space:pre;overflow-x:auto;line-height:normal;font-family:Menlo,'DejaVu Sans Mono',consolas,'Courier New',monospace\">Requirement already satisfied: pillow in c:\\users\\itele uk\\anaconda3\\lib\\site-packages (from wordcloud) (9.4.0)\n",
       "</pre>\n"
      ],
      "text/plain": [
       "Requirement already satisfied: pillow in c:\\users\\itele uk\\anaconda3\\lib\\site-packages (from wordcloud) (9.4.0)\n"
      ]
     },
     "metadata": {},
     "output_type": "display_data"
    },
    {
     "data": {
      "text/html": [
       "<pre style=\"white-space:pre;overflow-x:auto;line-height:normal;font-family:Menlo,'DejaVu Sans Mono',consolas,'Courier New',monospace\">Requirement already satisfied: fonttools&gt;=4.22.0 in c:\\users\\itele uk\\anaconda3\\lib\\site-packages (from matplotlib-&gt;wordcloud) (4.25.0)\n",
       "</pre>\n"
      ],
      "text/plain": [
       "Requirement already satisfied: fonttools>=4.22.0 in c:\\users\\itele uk\\anaconda3\\lib\\site-packages (from matplotlib->wordcloud) (4.25.0)\n"
      ]
     },
     "metadata": {},
     "output_type": "display_data"
    },
    {
     "data": {
      "text/html": [
       "<pre style=\"white-space:pre;overflow-x:auto;line-height:normal;font-family:Menlo,'DejaVu Sans Mono',consolas,'Courier New',monospace\">Requirement already satisfied: pyparsing&gt;=2.3.1 in c:\\users\\itele uk\\anaconda3\\lib\\site-packages (from matplotlib-&gt;wordcloud) (3.0.9)\n",
       "</pre>\n"
      ],
      "text/plain": [
       "Requirement already satisfied: pyparsing>=2.3.1 in c:\\users\\itele uk\\anaconda3\\lib\\site-packages (from matplotlib->wordcloud) (3.0.9)\n"
      ]
     },
     "metadata": {},
     "output_type": "display_data"
    },
    {
     "data": {
      "text/html": [
       "<pre style=\"white-space:pre;overflow-x:auto;line-height:normal;font-family:Menlo,'DejaVu Sans Mono',consolas,'Courier New',monospace\">Requirement already satisfied: kiwisolver&gt;=1.0.1 in c:\\users\\itele uk\\anaconda3\\lib\\site-packages (from matplotlib-&gt;wordcloud) (1.4.4)\n",
       "</pre>\n"
      ],
      "text/plain": [
       "Requirement already satisfied: kiwisolver>=1.0.1 in c:\\users\\itele uk\\anaconda3\\lib\\site-packages (from matplotlib->wordcloud) (1.4.4)\n"
      ]
     },
     "metadata": {},
     "output_type": "display_data"
    },
    {
     "data": {
      "text/html": [
       "<pre style=\"white-space:pre;overflow-x:auto;line-height:normal;font-family:Menlo,'DejaVu Sans Mono',consolas,'Courier New',monospace\">Requirement already satisfied: python-dateutil&gt;=2.7 in c:\\users\\itele uk\\anaconda3\\lib\\site-packages (from matplotlib-&gt;wordcloud) (2.8.2)\n",
       "</pre>\n"
      ],
      "text/plain": [
       "Requirement already satisfied: python-dateutil>=2.7 in c:\\users\\itele uk\\anaconda3\\lib\\site-packages (from matplotlib->wordcloud) (2.8.2)\n"
      ]
     },
     "metadata": {},
     "output_type": "display_data"
    },
    {
     "data": {
      "text/html": [
       "<pre style=\"white-space:pre;overflow-x:auto;line-height:normal;font-family:Menlo,'DejaVu Sans Mono',consolas,'Courier New',monospace\">Requirement already satisfied: packaging&gt;=20.0 in c:\\users\\itele uk\\anaconda3\\lib\\site-packages (from matplotlib-&gt;wordcloud) (22.0)\n",
       "</pre>\n"
      ],
      "text/plain": [
       "Requirement already satisfied: packaging>=20.0 in c:\\users\\itele uk\\anaconda3\\lib\\site-packages (from matplotlib->wordcloud) (22.0)\n"
      ]
     },
     "metadata": {},
     "output_type": "display_data"
    },
    {
     "data": {
      "text/html": [
       "<pre style=\"white-space:pre;overflow-x:auto;line-height:normal;font-family:Menlo,'DejaVu Sans Mono',consolas,'Courier New',monospace\">Requirement already satisfied: contourpy&gt;=1.0.1 in c:\\users\\itele uk\\anaconda3\\lib\\site-packages (from matplotlib-&gt;wordcloud) (1.0.5)\n",
       "</pre>\n"
      ],
      "text/plain": [
       "Requirement already satisfied: contourpy>=1.0.1 in c:\\users\\itele uk\\anaconda3\\lib\\site-packages (from matplotlib->wordcloud) (1.0.5)\n"
      ]
     },
     "metadata": {},
     "output_type": "display_data"
    },
    {
     "data": {
      "text/html": [
       "<pre style=\"white-space:pre;overflow-x:auto;line-height:normal;font-family:Menlo,'DejaVu Sans Mono',consolas,'Courier New',monospace\">Requirement already satisfied: cycler&gt;=0.10 in c:\\users\\itele uk\\anaconda3\\lib\\site-packages (from matplotlib-&gt;wordcloud) (0.11.0)\n",
       "</pre>\n"
      ],
      "text/plain": [
       "Requirement already satisfied: cycler>=0.10 in c:\\users\\itele uk\\anaconda3\\lib\\site-packages (from matplotlib->wordcloud) (0.11.0)\n"
      ]
     },
     "metadata": {},
     "output_type": "display_data"
    },
    {
     "data": {
      "text/html": [
       "<pre style=\"white-space:pre;overflow-x:auto;line-height:normal;font-family:Menlo,'DejaVu Sans Mono',consolas,'Courier New',monospace\">Requirement already satisfied: six&gt;=1.5 in c:\\users\\itele uk\\anaconda3\\lib\\site-packages (from python-dateutil&gt;=2.7-&gt;matplotlib-&gt;wordcloud) (1.16.0)\n",
       "</pre>\n"
      ],
      "text/plain": [
       "Requirement already satisfied: six>=1.5 in c:\\users\\itele uk\\anaconda3\\lib\\site-packages (from python-dateutil>=2.7->matplotlib->wordcloud) (1.16.0)\n"
      ]
     },
     "metadata": {},
     "output_type": "display_data"
    },
    {
     "data": {
      "text/plain": [
       "0"
      ]
     },
     "execution_count": 1,
     "metadata": {},
     "output_type": "execute_result"
    }
   ],
   "source": [
    "import pandas as pd\n",
    "import json\n",
    "from pandas.io.json import json_normalize\n",
    "import tweepy\n",
    "import textblob\n",
    "import seaborn as sns\n",
    "import matplotlib.pyplot as plt\n",
    "from matplotlib.colors import ListedColormap\n",
    "from wordcloud import WordCloud\n",
    "import numpy as np\n",
    "import re\n",
    "import os\n",
    "import string\n",
    "import pip\n",
    "import preprocessor as p\n",
    "import nltk\n",
    "from nltk.stem import PorterStemmer, LancasterStemmer # Common stemmers\n",
    "from nltk.stem import WordNetLemmatizer # Common Lemmatizer\n",
    "nltk.download('wordnet')\n",
    "from nltk.corpus import wordnet\n",
    "from nltk import word_tokenize\n",
    "from nltk.corpus import stopwords\n",
    "from transformers import pipeline\n",
    "from sklearn.feature_extraction.text import CountVectorizer\n",
    "from sklearn.feature_extraction.text import TfidfVectorizer\n",
    "from gensim.models import Word2Vec\n",
    "from sklearn.model_selection import train_test_split \n",
    "from sklearn.metrics import f1_score\n",
    "from sklearn.metrics import classification_report, confusion_matrix #The classification report visualizer displays the precision,\n",
    "                                                            #recall, F1, and support scores for any model i want to use.\n",
    "from sklearn.metrics import accuracy_score, precision_score, mean_squared_error, r2_score\n",
    "from sklearn import svm\n",
    "from sklearn.naive_bayes import MultinomialNB\n",
    "from sklearn.linear_model import LogisticRegression\n",
    "from sklearn.neighbors import KNeighborsClassifier\n",
    "from sklearn.linear_model import Perceptron\n",
    "from nltk import ngrams\n",
    "nltk.download('punkt')\n",
    "nltk.download('averaged_perceptron_tagger')\n",
    "nltk.download('maxent_ne_chunker')\n",
    "nltk.download('words')\n",
    "nltk.download('wordnet')\n",
    "nltk.download('stopwords')\n",
    "nltk.download('omw-1.4')\n",
    "nltk.download('vader_lexicon')\n",
    "\n",
    "plt.style.use('ggplot')\n",
    "#installing tweet-preprocessor, wordcloud\n",
    "pip.main(['install','tweet-preprocessor']) # function simplified the data preprocessing step by automatically removing\n",
    "                                            #Twitter-specific features such as @ and # symbols, and \n",
    "pip.main(['install','wordcloud'])"
   ]
  },
  {
   "cell_type": "markdown",
   "id": "d08addd1",
   "metadata": {},
   "source": [
    "## Review my Data"
   ]
  },
  {
   "cell_type": "code",
   "execution_count": 2,
   "id": "ac46b4f6",
   "metadata": {},
   "outputs": [
    {
     "name": "stdout",
     "output_type": "stream",
     "text": [
      "(6443, 5)\n",
      "                                                   text       date  label  \\\n",
      "0     The {@Clinton LumberKings@} beat the {@Cedar R... 2019-09-08      4   \n",
      "1     I would rather hear Eli Gold announce this Aub... 2019-09-08      4   \n",
      "2     Someone take my phone away, I’m trying to not ... 2019-09-08      4   \n",
      "3     A year ago, Louisville struggled to beat an FC... 2019-09-08      4   \n",
      "4     Anyone know why the #Dodgers #Orioles game nex... 2019-09-08      4   \n",
      "...                                                 ...        ...    ...   \n",
      "6438  Praying for {{USERNAME}} family friends riding... 2021-08-29      3   \n",
      "6439  Etsy: {{USERNAME}} Hi there, I m sorry to hear... 2021-08-29      1   \n",
      "6440  Imagine how hard it is to be a Teume. Everyone... 2021-08-29      2   \n",
      "6441  Ride With Me - Mental Health Awareness Charity... 2021-08-29      2   \n",
      "6442  Prediction: The future of CX in {@McKinsey Com... 2021-08-29      1   \n",
      "\n",
      "                       id                label_name  \n",
      "0     1170516324419866624           sports_&_gaming  \n",
      "1     1170516440690176006           sports_&_gaming  \n",
      "2     1170516543387709440           sports_&_gaming  \n",
      "3     1170516620466429953           sports_&_gaming  \n",
      "4     1170516711411310592           sports_&_gaming  \n",
      "...                   ...                       ...  \n",
      "6438  1431979856120762370                daily_life  \n",
      "6439  1432008666018942977  business_&_entrepreneurs  \n",
      "6440  1432008666803097606               pop_culture  \n",
      "6441  1432069101753491456               pop_culture  \n",
      "6442  1432099700614774784  business_&_entrepreneurs  \n",
      "\n",
      "[6443 rows x 5 columns]\n"
     ]
    },
    {
     "data": {
      "text/plain": [
       "text                  object\n",
       "date          datetime64[ns]\n",
       "label                  int64\n",
       "id                     int64\n",
       "label_name            object\n",
       "dtype: object"
      ]
     },
     "execution_count": 2,
     "metadata": {},
     "output_type": "execute_result"
    }
   ],
   "source": [
    "tweets_data = pd.read_json(\"C:/Users/itele uk/Downloads/cetm47/cetm47-AS2-Data.json\", orient='records')\n",
    "tweets_data.keys()\n",
    "print(tweets_data.shape)\n",
    "print(tweets_data)\n",
    "tweets_data.head()\n",
    "tweets_data.isnull().sum()\n",
    "\n",
    "# Check the data types of the variables\n",
    "tweets_data.dtypes"
   ]
  },
  {
   "cell_type": "markdown",
   "id": "d020d4a0",
   "metadata": {},
   "source": [
    "### I further want to get the idea of how my dataset looks like, to show the number of times a label occurs\n",
    "#### and from the plot i can see that most label was two, which shows that the data is unbalanced, and the target class has an uneven distribution of data."
   ]
  },
  {
   "cell_type": "code",
   "execution_count": 3,
   "id": "a0e2edd2",
   "metadata": {},
   "outputs": [
    {
     "data": {
      "image/png": "[encoded data removed]",
      "text/plain": [
       "<Figure size 1000x500 with 1 Axes>"
      ]
     },
     "metadata": {},
     "output_type": "display_data"
    }
   ],
   "source": [
    "## Quick EDA\n",
    "ass = tweets_data['label'].value_counts().sort_index() \\\n",
    "    .plot(kind='bar', \n",
    "          title='Count of Tweet by Users',\n",
    "          figsize=(10, 5))\n",
    "ass.set_xlabel('Twitter Users')\n",
    "plt.show()"
   ]
  },
  {
   "cell_type": "markdown",
   "id": "57711384",
   "metadata": {},
   "source": [
    "### Data Preprocessing and Preparation Using NLP Pipeline"
   ]
  },
  {
   "cell_type": "code",
   "execution_count": 4,
   "id": "6d841dde",
   "metadata": {},
   "outputs": [],
   "source": [
    "REPLACE_NO_SPACE = re. compile(\"(\\.)|(\\;)|(\\:)|(\\!)|(\\')|(\\?)|(\\,)|(\\\")|(\\|)|(\\()|(\\))|(\\[)|(\\])|(\\%)|(\\$)|(\\>)|(\\<)|(\\{)|(\\})\")\n",
    "REPLACE_WITH_SPACE = re.compile(\"(<br\\s/><br\\s/?)|(-)|(/)|(:).\")"
   ]
  },
  {
   "cell_type": "code",
   "execution_count": 5,
   "id": "cb6e1103",
   "metadata": {},
   "outputs": [],
   "source": [
    "def clean_my_ass2_dataset(tweets_txt):\n",
    "    cleaned = []\n",
    "    for line in tweets_txt:\n",
    "        #send to tweet processor\n",
    "        tweet = p.clean(line)\n",
    "        #remove puntuation\n",
    "        tweet = REPLACE_NO_SPACE.sub('', tweet.lower()) # convert all tweets to lower cases\n",
    "        tweet = REPLACE_WITH_SPACE.sub('', tweet)\n",
    "        cleaned.append(tweet)\n",
    "    return cleaned"
   ]
  },
  {
   "cell_type": "code",
   "execution_count": 6,
   "id": "fb4ffcc3",
   "metadata": {},
   "outputs": [
    {
     "name": "stdout",
     "output_type": "stream",
     "text": [
      "                                                   text       date  label  \\\n",
      "0     The {@Clinton LumberKings@} beat the {@Cedar R... 2019-09-08      4   \n",
      "1     I would rather hear Eli Gold announce this Aub... 2019-09-08      4   \n",
      "2     Someone take my phone away, I’m trying to not ... 2019-09-08      4   \n",
      "3     A year ago, Louisville struggled to beat an FC... 2019-09-08      4   \n",
      "4     Anyone know why the #Dodgers #Orioles game nex... 2019-09-08      4   \n",
      "...                                                 ...        ...    ...   \n",
      "6438  Praying for {{USERNAME}} family friends riding... 2021-08-29      3   \n",
      "6439  Etsy: {{USERNAME}} Hi there, I m sorry to hear... 2021-08-29      1   \n",
      "6440  Imagine how hard it is to be a Teume. Everyone... 2021-08-29      2   \n",
      "6441  Ride With Me - Mental Health Awareness Charity... 2021-08-29      2   \n",
      "6442  Prediction: The future of CX in {@McKinsey Com... 2021-08-29      1   \n",
      "\n",
      "                       id                label_name  \\\n",
      "0     1170516324419866624           sports_&_gaming   \n",
      "1     1170516440690176006           sports_&_gaming   \n",
      "2     1170516543387709440           sports_&_gaming   \n",
      "3     1170516620466429953           sports_&_gaming   \n",
      "4     1170516711411310592           sports_&_gaming   \n",
      "...                   ...                       ...   \n",
      "6438  1431979856120762370                daily_life   \n",
      "6439  1432008666018942977  business_&_entrepreneurs   \n",
      "6440  1432008666803097606               pop_culture   \n",
      "6441  1432069101753491456               pop_culture   \n",
      "6442  1432099700614774784  business_&_entrepreneurs   \n",
      "\n",
      "                                           cleaned_text  \n",
      "0     the  lumberkings beat the  rapids kernels 0 in...  \n",
      "1     i would rather hear eli gold announce this aub...  \n",
      "2     someone take my phone away im trying to not lo...  \n",
      "3     a year ago louisville struggled to beat an fcs...  \n",
      "4     anyone know why the game next thursday 12 is o...  \n",
      "...                                                 ...  \n",
      "6438  praying for username family friends riding out...  \n",
      "6439  etsy username hi there i m sorry to hear that ...  \n",
      "6440  imagine how hard it is to be a teume everyone ...  \n",
      "6441  ride with me  mental health awareness charity ...  \n",
      "6442  prediction the future of cx in  company quarte...  \n",
      "\n",
      "[6443 rows x 6 columns]\n"
     ]
    }
   ],
   "source": [
    "# clean data\n",
    "cln_data = clean_my_ass2_dataset(tweets_data[\"text\"])\n",
    "cln_data = pd.DataFrame(cln_data)\n",
    "\n",
    "#append cleaned tweets to the tweet_data\n",
    "tweets_data[\"cleaned_text\"] = cln_data\n",
    "\n",
    "# i want to compare the cleaned data to the uncleaned data\n",
    "tweets_data.head(4) #view first 4 rows\n",
    "tweets_data.tail(4) #view last 4 rows\n",
    "print(tweets_data)"
   ]
  },
  {
   "cell_type": "markdown",
   "id": "dd8f2104",
   "metadata": {},
   "source": [
    "### Word Cloud is used to display the most prominent words in a body of text in my data"
   ]
  },
  {
   "cell_type": "code",
   "execution_count": 7,
   "id": "f8fff83f",
   "metadata": {},
   "outputs": [
    {
     "data": {
      "image/png": "[encoded data removed]",
      "text/plain": [
       "<Figure size 640x480 with 1 Axes>"
      ]
     },
     "metadata": {},
     "output_type": "display_data"
    }
   ],
   "source": [
    "word_cloud_text = ''.join([text for text in tweets_data['cleaned_text'][tweets_data['label']==0]])\n",
    "\n",
    "wordcloud = WordCloud(max_font_size=100, max_words=100, background_color=\"white\", scale=10, width=800, height=400).generate(word_cloud_text)\n",
    "plt.figure()\n",
    "plt.imshow(wordcloud, interpolation=\"bilinear\")\n",
    "plt.axis(\"off\")\n",
    "plt.show()"
   ]
  },
  {
   "cell_type": "markdown",
   "id": "bbf77eb5",
   "metadata": {},
   "source": [
    "# Text Nomalization -  using stemmer and lemmer on my cleaned text to reduce words to their basic form  which makes it easier to identify  and analyzed patterns and relationships between words. and also for easy comparism"
   ]
  },
  {
   "cell_type": "code",
   "execution_count": 8,
   "id": "2ef3e506",
   "metadata": {},
   "outputs": [],
   "source": [
    "## Basic NLTK\n",
    "#to split paragraphs and sentences into smaller units that can be more easily assigned meaning\n",
    "tokenize_tweet = tweets_data[\"cleaned_text\"].apply(lambda x:x.split())\n",
    "\n",
    "# Initialize a stemmer object\n",
    "#Stemming is the process of reducing a word to its stem that affixes to suffixes and prefixes or to the roots of words \n",
    "stemmer = PorterStemmer()\n",
    "tokenized_tweet_stem = tokenize_tweet.apply(lambda x: [stemmer.stem(i) for i in x])\n",
    "\n",
    "# Initialize a lemmatizer object\n",
    "#grouping different inflected forms of words into the root form, having the same meaning.\n",
    "lemmatizer = WordNetLemmatizer()\n",
    "tokenized_tweet_lem = tokenize_tweet.apply(lambda x: [lemmatizer.lemmatize(i) for i in x])"
   ]
  },
  {
   "cell_type": "code",
   "execution_count": 9,
   "id": "cf873faa",
   "metadata": {},
   "outputs": [
    {
     "data": {
      "text/html": [
       "<div>\n",
       "<style scoped>\n",
       "    .dataframe tbody tr th:only-of-type {\n",
       "        vertical-align: middle;\n",
       "    }\n",
       "\n",
       "    .dataframe tbody tr th {\n",
       "        vertical-align: top;\n",
       "    }\n",
       "\n",
       "    .dataframe thead th {\n",
       "        text-align: right;\n",
       "    }\n",
       "</style>\n",
       "<table border=\"1\" class=\"dataframe\">\n",
       "  <thead>\n",
       "    <tr style=\"text-align: right;\">\n",
       "      <th></th>\n",
       "      <th>text</th>\n",
       "      <th>date</th>\n",
       "      <th>label</th>\n",
       "      <th>id</th>\n",
       "      <th>label_name</th>\n",
       "      <th>cleaned_text</th>\n",
       "      <th>cleaned_stemm_text</th>\n",
       "      <th>cleaned_lemm_text</th>\n",
       "    </tr>\n",
       "  </thead>\n",
       "  <tbody>\n",
       "    <tr>\n",
       "      <th>0</th>\n",
       "      <td>The {@Clinton LumberKings@} beat the {@Cedar R...</td>\n",
       "      <td>2019-09-08</td>\n",
       "      <td>4</td>\n",
       "      <td>1170516324419866624</td>\n",
       "      <td>sports_&amp;_gaming</td>\n",
       "      <td>the  lumberkings beat the  rapids kernels 0 in...</td>\n",
       "      <td>the lumberk beat the rapid kernel 0 in game of...</td>\n",
       "      <td>the lumberkings beat the rapid kernel 0 in gam...</td>\n",
       "    </tr>\n",
       "    <tr>\n",
       "      <th>1</th>\n",
       "      <td>I would rather hear Eli Gold announce this Aub...</td>\n",
       "      <td>2019-09-08</td>\n",
       "      <td>4</td>\n",
       "      <td>1170516440690176006</td>\n",
       "      <td>sports_&amp;_gaming</td>\n",
       "      <td>i would rather hear eli gold announce this aub...</td>\n",
       "      <td>i would rather hear eli gold announc thi aubur...</td>\n",
       "      <td>i would rather hear eli gold announce this aub...</td>\n",
       "    </tr>\n",
       "    <tr>\n",
       "      <th>2</th>\n",
       "      <td>Someone take my phone away, I’m trying to not ...</td>\n",
       "      <td>2019-09-08</td>\n",
       "      <td>4</td>\n",
       "      <td>1170516543387709440</td>\n",
       "      <td>sports_&amp;_gaming</td>\n",
       "      <td>someone take my phone away im trying to not lo...</td>\n",
       "      <td>someon take my phone away im tri to not look a...</td>\n",
       "      <td>someone take my phone away im trying to not lo...</td>\n",
       "    </tr>\n",
       "  </tbody>\n",
       "</table>\n",
       "</div>"
      ],
      "text/plain": [
       "                                                text       date  label  \\\n",
       "0  The {@Clinton LumberKings@} beat the {@Cedar R... 2019-09-08      4   \n",
       "1  I would rather hear Eli Gold announce this Aub... 2019-09-08      4   \n",
       "2  Someone take my phone away, I’m trying to not ... 2019-09-08      4   \n",
       "\n",
       "                    id       label_name  \\\n",
       "0  1170516324419866624  sports_&_gaming   \n",
       "1  1170516440690176006  sports_&_gaming   \n",
       "2  1170516543387709440  sports_&_gaming   \n",
       "\n",
       "                                        cleaned_text  \\\n",
       "0  the  lumberkings beat the  rapids kernels 0 in...   \n",
       "1  i would rather hear eli gold announce this aub...   \n",
       "2  someone take my phone away im trying to not lo...   \n",
       "\n",
       "                                  cleaned_stemm_text  \\\n",
       "0  the lumberk beat the rapid kernel 0 in game of...   \n",
       "1  i would rather hear eli gold announc thi aubur...   \n",
       "2  someon take my phone away im tri to not look a...   \n",
       "\n",
       "                                   cleaned_lemm_text  \n",
       "0  the lumberkings beat the rapid kernel 0 in gam...  \n",
       "1  i would rather hear eli gold announce this aub...  \n",
       "2  someone take my phone away im trying to not lo...  "
      ]
     },
     "execution_count": 9,
     "metadata": {},
     "output_type": "execute_result"
    }
   ],
   "source": [
    "#now let me combine this tokens back\n",
    "for i in range (len(tokenized_tweet_stem)):\n",
    "    tokenized_tweet_stem[i] = ' '.join(tokenized_tweet_stem[i])\n",
    "tweets_data['cleaned_stemm_text'] = tokenized_tweet_stem\n",
    "\n",
    "#now let me combine this tokens back\n",
    "for i in range (len(tokenized_tweet_lem)):\n",
    "    tokenized_tweet_lem[i] = ' '.join(tokenized_tweet_lem[i])\n",
    "tweets_data['cleaned_lemm_text'] = tokenized_tweet_lem\n",
    "\n",
    "tweets_data.head(3)"
   ]
  },
  {
   "cell_type": "code",
   "execution_count": 10,
   "id": "249d19b8",
   "metadata": {},
   "outputs": [
    {
     "name": "stdout",
     "output_type": "stream",
     "text": [
      "-- Original Tweets with stem --\n",
      " the lumberk beat the rapid kernel 0 in game of the western divis final evan edward hit a run hr wp josh roberson ip h r bb k\n",
      "\n",
      " Stopwords in the Sentence with stem --\n",
      " ['the', 'the', 'in', 'of', 'the', 'a']\n",
      "\n",
      " Non-stopwords in the Sentence with stem --\n",
      " ['lumberk', 'beat', 'rapid', 'kernel', '0', 'game', 'western', 'divis', 'final', 'evan', 'edward', 'hit', 'run', 'hr', 'wp', 'josh', 'roberson', 'ip', 'h', 'r', 'bb', 'k']\n",
      "-- Original Tweets with lem --\n",
      " the lumberkings beat the rapid kernel 0 in game of the western division final evan edward hit a run hr wp josh roberson ip h r bb k\n",
      "\n",
      " Stopwords in the Sentence with lem --\n",
      " ['the', 'the', 'in', 'of', 'the', 'a']\n",
      "\n",
      " Non-stopwords in the Sentence with lem --\n",
      " ['lumberkings', 'beat', 'rapid', 'kernel', '0', 'game', 'western', 'division', 'final', 'evan', 'edward', 'hit', 'run', 'hr', 'wp', 'josh', 'roberson', 'ip', 'h', 'r', 'bb', 'k']\n"
     ]
    }
   ],
   "source": [
    "# using stop words to eliminate unimportant words, allowing applications to focus on the important words instead.\n",
    "eng_stop_words_stem = stopwords.words('english')\n",
    "stop_words_stem = set(eng_stop_words_stem)\n",
    "without_stop_words_stem = []\n",
    "stopwords_stem = []\n",
    "tweets_stem = tweets_data['cleaned_stemm_text'][0]\n",
    "words_stem = nltk.word_tokenize(tweets_stem)\n",
    "\n",
    "for word in words_stem:\n",
    "    if word in stop_words_stem:\n",
    "        stopwords_stem.append(word)\n",
    "    else:\n",
    "        without_stop_words_stem.append(word)\n",
    "        \n",
    "eng_stop_words_lem = stopwords.words('english')\n",
    "stop_words_lem = set(eng_stop_words_lem)\n",
    "without_stop_words_lem = []\n",
    "stopwords_lem = []\n",
    "tweets_lem = tweets_data['cleaned_lemm_text'][0]\n",
    "words_lem = nltk.word_tokenize(tweets_lem)\n",
    "\n",
    "for word in words_lem:\n",
    "    if word in stop_words_lem:\n",
    "        stopwords_lem.append(word)\n",
    "    else:\n",
    "        without_stop_words_lem.append(word)\n",
    "        \n",
    "print('-- Original Tweets with stem --\\n', tweets_stem)\n",
    "print('\\n Stopwords in the Sentence with stem --\\n', stopwords_stem)\n",
    "print('\\n Non-stopwords in the Sentence with stem --\\n', without_stop_words_stem)\n",
    "        \n",
    "print('-- Original Tweets with lem --\\n', tweets_lem)\n",
    "print('\\n Stopwords in the Sentence with lem --\\n', stopwords_lem)\n",
    "print('\\n Non-stopwords in the Sentence with lem --\\n', without_stop_words_lem)"
   ]
  },
  {
   "cell_type": "markdown",
   "id": "b2373b21",
   "metadata": {},
   "source": [
    "## Features extraction from Cleaned Tweets"
   ]
  },
  {
   "cell_type": "code",
   "execution_count": 11,
   "id": "d74a0a4b",
   "metadata": {},
   "outputs": [],
   "source": [
    "y = tweets_data.label.values\n",
    "\n",
    "#Split the data into training and testing sets\n",
    "X_train_stem, X_test_stem, y_train_stem, y_test_stem = train_test_split(tweets_data.cleaned_stemm_text.values, y, stratify=y, test_size=0.3, random_state=1, shuffle=True)\n",
    "\n",
    "#Split the data into training and testing sets\n",
    "X_train_lem, X_test_lem, y_train_lem, y_test_lem = train_test_split(tweets_data.cleaned_lemm_text.values, y, stratify=y, test_size=0.3, random_state=1, shuffle=True)"
   ]
  },
  {
   "cell_type": "markdown",
   "id": "797ba93e",
   "metadata": {},
   "source": [
    "## Bag of Words - CountVectorizer"
   ]
  },
  {
   "cell_type": "code",
   "execution_count": 12,
   "id": "b63629d5",
   "metadata": {},
   "outputs": [],
   "source": [
    "#Bag of words on stemmed becausee  is a simple and flexible way of extracting features from data\n",
    "#to analyze text and documents based on word count using countvect to creates a dictionary of unique \n",
    "#tokens and frequency of those tokens in each document is used as features to build a classification model. \n",
    "#vectorize the whole tweet dataset for model building with stem\n",
    "vectorizer = CountVectorizer(binary= True, stop_words='english')\n",
    "# learn a vocabulary dictionary of all tokens in the raw file\n",
    "splt_vec_stem = vectorizer.fit(list(X_train_stem) + list(X_test_stem))\n",
    "# transform documents to document_term matrix\n",
    "X_train_vec_stem = vectorizer.transform(X_train_stem)\n",
    "X_test_vec_stem = vectorizer.transform(X_test_stem)\n",
    "\n",
    "#vectorize the whole tweet dataset for model building with lem\n",
    "vectorizer = CountVectorizer(binary= True)\n",
    "# learn a vocabulary dictionary of all tokens in the raw file\n",
    "splt_vect_lem = vectorizer.fit(list(X_train_lem) + list(X_test_lem))\n",
    "# transform documents to document_term matrix\n",
    "X_train_vec_lem = vectorizer.transform(X_train_lem)\n",
    "X_test_vec_lem = vectorizer.transform(X_test_lem)\n"
   ]
  },
  {
   "cell_type": "markdown",
   "id": "8cdea3d9",
   "metadata": {},
   "source": [
    "### N-gram with CountVectorizer"
   ]
  },
  {
   "cell_type": "code",
   "execution_count": 13,
   "id": "7ebf7370",
   "metadata": {},
   "outputs": [],
   "source": [
    "# Create n-gram vectorizer\n",
    "#n-gram is used because i want to basically set my data into co-occurring words within a given window and\n",
    "#when computing the n-grams(1, 2) move one word forward, means the n-gram range, unigrams and bigrams  \n",
    "#it lets me decide the length of the sequence of consecutive words in the given text.\n",
    "ngram_vectorizer = CountVectorizer(ngram_range=(1, 2), stop_words='english') #this will pick the unigram(only single word), bigram (group of 2 consecutive words).\n",
    "# learn a vocabulary dictionary of all tokens in the raw file\n",
    "splt_vecng_stem = ngram_vectorizer.fit(list(X_train_stem) + list(X_test_stem))\n",
    "# transform documents to document_term matrix\n",
    "X_train_ngstem = ngram_vectorizer.transform(X_train_stem)\n",
    "X_test_ngstem = ngram_vectorizer.transform(X_test_stem)\n",
    "\n",
    "# learn a vocabulary dictionary of all tokens in the raw file\n",
    "splt_vectng_lem = ngram_vectorizer.fit(list(X_train_lem) + list(X_test_lem))\n",
    "# transform documents to document_term matrix\n",
    "X_train_nglem = ngram_vectorizer.transform(X_train_lem)\n",
    "X_test_nglem = ngram_vectorizer.transform(X_test_lem)"
   ]
  },
  {
   "cell_type": "markdown",
   "id": "1263da9b",
   "metadata": {},
   "source": [
    "## TF-IDF Features"
   ]
  },
  {
   "cell_type": "code",
   "execution_count": 14,
   "id": "34c0c9d7",
   "metadata": {},
   "outputs": [],
   "source": [
    "#vectorize tweet for model building\n",
    "#to take into account not just the occurrence of a word in the tweet_data but in the entire corpus.\n",
    "#TF = (Number of times term t appears in a document)/(Number of terms in the document)\n",
    "#IDF = log(N/n), where, N is the number of documents and n is the number of documents a term t has appeared in.\n",
    "#TF-IDF = TF*IDF\n",
    "tfidf_vectorizer = TfidfVectorizer(binary= True, stop_words='english')\n",
    "# learn a vocabulary dictionary of all tokens in the raw file with stem\n",
    "tfidf_vectst = tfidf_vectorizer.fit(list(X_train_stem) + list(X_test_stem))\n",
    "# transform documents to document_term matrix\n",
    "X_train_tfidfst = tfidf_vectorizer.transform(X_train_stem)\n",
    "X_test_tfidfst = tfidf_vectorizer.transform(X_test_stem)\n",
    "\n",
    "# learn a vocabulary dictionary of all tokens in the raw file with lem\n",
    "tfidf_vectlm = tfidf_vectorizer.fit(list(X_train_lem) + list(X_test_lem))\n",
    "# transform documents to document_term matrix\n",
    "X_train_tfidflm = tfidf_vectorizer.transform(X_train_lem)\n",
    "X_test_tfidflm = tfidf_vectorizer.transform(X_test_lem)"
   ]
  },
  {
   "cell_type": "markdown",
   "id": "49f58bf2",
   "metadata": {},
   "source": [
    "## N-gram with Tfidf"
   ]
  },
  {
   "cell_type": "code",
   "execution_count": 15,
   "id": "68813582",
   "metadata": {},
   "outputs": [],
   "source": [
    "#vectorize tweet for model building\n",
    "ngram_tfidf = TfidfVectorizer(ngram_range=(1, 2),stop_words='english')\n",
    "# learn a vocabulary dictionary of all tokens in the raw file\n",
    "tfidf_ngrmst = ngram_tfidf.fit(list(X_train_stem) + list(X_test_stem))\n",
    "# transform documents to document_term matrix\n",
    "X_train_ngtfidfst = ngram_tfidf.transform(X_train_stem)\n",
    "X_test_ngtfidfst = ngram_tfidf.transform(X_test_stem)\n",
    "\n",
    "# learn a vocabulary dictionary of all tokens in the raw file\n",
    "tfidf_ngrmlm = ngram_tfidf.fit(list(X_train_lem) + list(X_test_lem))\n",
    "# transform documents to document_term matrix\n",
    "X_train_ngtfidflm = ngram_tfidf.transform(X_train_lem)\n",
    "X_test_ngtfidflm = ngram_tfidf.transform(X_test_lem)"
   ]
  },
  {
   "cell_type": "markdown",
   "id": "af958fcd",
   "metadata": {},
   "source": [
    "## Word2Vect"
   ]
  },
  {
   "cell_type": "code",
   "execution_count": 16,
   "id": "2e00552f",
   "metadata": {},
   "outputs": [
    {
     "data": {
      "text/html": [
       "<pre style=\"white-space:pre;overflow-x:auto;line-height:normal;font-family:Menlo,'DejaVu Sans Mono',consolas,'Courier New',monospace\">collecting all words and their counts\n",
       "</pre>\n"
      ],
      "text/plain": [
       "collecting all words and their counts\n"
      ]
     },
     "metadata": {},
     "output_type": "display_data"
    },
    {
     "data": {
      "text/html": [
       "<pre style=\"white-space:pre;overflow-x:auto;line-height:normal;font-family:Menlo,'DejaVu Sans Mono',consolas,'Courier New',monospace\">PROGRESS: at sentence #0, processed 0 words, keeping 0 word types\n",
       "</pre>\n"
      ],
      "text/plain": [
       "PROGRESS: at sentence #0, processed 0 words, keeping 0 word types\n"
      ]
     },
     "metadata": {},
     "output_type": "display_data"
    },
    {
     "data": {
      "text/html": [
       "<pre style=\"white-space:pre;overflow-x:auto;line-height:normal;font-family:Menlo,'DejaVu Sans Mono',consolas,'Courier New',monospace\">collected 11334 word types from a corpus of 112727 raw words and 4510 sentences\n",
       "</pre>\n"
      ],
      "text/plain": [
       "collected 11334 word types from a corpus of 112727 raw words and 4510 sentences\n"
      ]
     },
     "metadata": {},
     "output_type": "display_data"
    },
    {
     "data": {
      "text/html": [
       "<pre style=\"white-space:pre;overflow-x:auto;line-height:normal;font-family:Menlo,'DejaVu Sans Mono',consolas,'Courier New',monospace\">Creating a fresh vocabulary\n",
       "</pre>\n"
      ],
      "text/plain": [
       "Creating a fresh vocabulary\n"
      ]
     },
     "metadata": {},
     "output_type": "display_data"
    },
    {
     "data": {
      "text/html": [
       "<pre style=\"white-space:pre;overflow-x:auto;line-height:normal;font-family:Menlo,'DejaVu Sans Mono',consolas,'Courier New',monospace\">Word2Vec lifecycle event {'msg': 'effective_min_count=5 retains 2342 unique words (20.66% of original 11334, drops 8992)', 'datetime': '2023-05-17T07:09:44.270188', 'gensim': '4.3.0', 'python': '3.10.9 | packaged by Anaconda, Inc. | (main, Mar  1 2023, 18:18:15) [MSC v.1916 64 bit (AMD64)]', 'platform': 'Windows-10-10.0.19045-SP0', 'event': 'prepare_vocab'}\n",
       "</pre>\n"
      ],
      "text/plain": [
       "Word2Vec lifecycle event {'msg': 'effective_min_count=5 retains 2342 unique words (20.66% of original 11334, drops 8992)', 'datetime': '2023-05-17T07:09:44.270188', 'gensim': '4.3.0', 'python': '3.10.9 | packaged by Anaconda, Inc. | (main, Mar  1 2023, 18:18:15) [MSC v.1916 64 bit (AMD64)]', 'platform': 'Windows-10-10.0.19045-SP0', 'event': 'prepare_vocab'}\n"
      ]
     },
     "metadata": {},
     "output_type": "display_data"
    },
    {
     "data": {
      "text/html": [
       "<pre style=\"white-space:pre;overflow-x:auto;line-height:normal;font-family:Menlo,'DejaVu Sans Mono',consolas,'Courier New',monospace\">Word2Vec lifecycle event {'msg': 'effective_min_count=5 leaves 99498 word corpus (88.26% of original 112727, drops 13229)', 'datetime': '2023-05-17T07:09:44.272145', 'gensim': '4.3.0', 'python': '3.10.9 | packaged by Anaconda, Inc. | (main, Mar  1 2023, 18:18:15) [MSC v.1916 64 bit (AMD64)]', 'platform': 'Windows-10-10.0.19045-SP0', 'event': 'prepare_vocab'}\n",
       "</pre>\n"
      ],
      "text/plain": [
       "Word2Vec lifecycle event {'msg': 'effective_min_count=5 leaves 99498 word corpus (88.26% of original 112727, drops 13229)', 'datetime': '2023-05-17T07:09:44.272145', 'gensim': '4.3.0', 'python': '3.10.9 | packaged by Anaconda, Inc. | (main, Mar  1 2023, 18:18:15) [MSC v.1916 64 bit (AMD64)]', 'platform': 'Windows-10-10.0.19045-SP0', 'event': 'prepare_vocab'}\n"
      ]
     },
     "metadata": {},
     "output_type": "display_data"
    },
    {
     "data": {
      "text/html": [
       "<pre style=\"white-space:pre;overflow-x:auto;line-height:normal;font-family:Menlo,'DejaVu Sans Mono',consolas,'Courier New',monospace\">deleting the raw counts dictionary of 11334 items\n",
       "</pre>\n"
      ],
      "text/plain": [
       "deleting the raw counts dictionary of 11334 items\n"
      ]
     },
     "metadata": {},
     "output_type": "display_data"
    },
    {
     "data": {
      "text/html": [
       "<pre style=\"white-space:pre;overflow-x:auto;line-height:normal;font-family:Menlo,'DejaVu Sans Mono',consolas,'Courier New',monospace\">sample=0.001 downsamples 55 most-common words\n",
       "</pre>\n"
      ],
      "text/plain": [
       "sample=0.001 downsamples 55 most-common words\n"
      ]
     },
     "metadata": {},
     "output_type": "display_data"
    },
    {
     "data": {
      "text/html": [
       "<pre style=\"white-space:pre;overflow-x:auto;line-height:normal;font-family:Menlo,'DejaVu Sans Mono',consolas,'Courier New',monospace\">Word2Vec lifecycle event {'msg': 'downsampling leaves estimated 73880.8526826833 word corpus (74.3%% of prior 99498)', 'datetime': '2023-05-17T07:09:44.308093', 'gensim': '4.3.0', 'python': '3.10.9 | packaged by Anaconda, Inc. | (main, Mar  1 2023, 18:18:15) [MSC v.1916 64 bit (AMD64)]', 'platform': 'Windows-10-10.0.19045-SP0', 'event': 'prepare_vocab'}\n",
       "</pre>\n"
      ],
      "text/plain": [
       "Word2Vec lifecycle event {'msg': 'downsampling leaves estimated 73880.8526826833 word corpus (74.3%% of prior 99498)', 'datetime': '2023-05-17T07:09:44.308093', 'gensim': '4.3.0', 'python': '3.10.9 | packaged by Anaconda, Inc. | (main, Mar  1 2023, 18:18:15) [MSC v.1916 64 bit (AMD64)]', 'platform': 'Windows-10-10.0.19045-SP0', 'event': 'prepare_vocab'}\n"
      ]
     },
     "metadata": {},
     "output_type": "display_data"
    },
    {
     "data": {
      "text/html": [
       "<pre style=\"white-space:pre;overflow-x:auto;line-height:normal;font-family:Menlo,'DejaVu Sans Mono',consolas,'Courier New',monospace\">estimated required memory for 2342 words and 100 dimensions: 3044600 bytes\n",
       "</pre>\n"
      ],
      "text/plain": [
       "estimated required memory for 2342 words and 100 dimensions: 3044600 bytes\n"
      ]
     },
     "metadata": {},
     "output_type": "display_data"
    },
    {
     "data": {
      "text/html": [
       "<pre style=\"white-space:pre;overflow-x:auto;line-height:normal;font-family:Menlo,'DejaVu Sans Mono',consolas,'Courier New',monospace\">resetting layer weights\n",
       "</pre>\n"
      ],
      "text/plain": [
       "resetting layer weights\n"
      ]
     },
     "metadata": {},
     "output_type": "display_data"
    },
    {
     "data": {
      "text/html": [
       "<pre style=\"white-space:pre;overflow-x:auto;line-height:normal;font-family:Menlo,'DejaVu Sans Mono',consolas,'Courier New',monospace\">Word2Vec lifecycle event {'update': False, 'trim_rule': 'None', 'datetime': '2023-05-17T07:09:44.349937', 'gensim': '4.3.0', 'python': '3.10.9 | packaged by Anaconda, Inc. | (main, Mar  1 2023, 18:18:15) [MSC v.1916 64 bit (AMD64)]', 'platform': 'Windows-10-10.0.19045-SP0', 'event': 'build_vocab'}\n",
       "</pre>\n"
      ],
      "text/plain": [
       "Word2Vec lifecycle event {'update': False, 'trim_rule': 'None', 'datetime': '2023-05-17T07:09:44.349937', 'gensim': '4.3.0', 'python': '3.10.9 | packaged by Anaconda, Inc. | (main, Mar  1 2023, 18:18:15) [MSC v.1916 64 bit (AMD64)]', 'platform': 'Windows-10-10.0.19045-SP0', 'event': 'build_vocab'}\n"
      ]
     },
     "metadata": {},
     "output_type": "display_data"
    },
    {
     "data": {
      "text/html": [
       "<pre style=\"white-space:pre;overflow-x:auto;line-height:normal;font-family:Menlo,'DejaVu Sans Mono',consolas,'Courier New',monospace\">Word2Vec lifecycle event {'msg': 'training model with 4 workers on 2342 vocabulary and 100 features, using sg=0 hs=0 sample=0.001 negative=5 window=5 shrink_windows=True', 'datetime': '2023-05-17T07:09:44.352930', 'gensim': '4.3.0', 'python': '3.10.9 | packaged by Anaconda, Inc. | (main, Mar  1 2023, 18:18:15) [MSC v.1916 64 bit (AMD64)]', 'platform': 'Windows-10-10.0.19045-SP0', 'event': 'train'}\n",
       "</pre>\n"
      ],
      "text/plain": [
       "Word2Vec lifecycle event {'msg': 'training model with 4 workers on 2342 vocabulary and 100 features, using sg=0 hs=0 sample=0.001 negative=5 window=5 shrink_windows=True', 'datetime': '2023-05-17T07:09:44.352930', 'gensim': '4.3.0', 'python': '3.10.9 | packaged by Anaconda, Inc. | (main, Mar  1 2023, 18:18:15) [MSC v.1916 64 bit (AMD64)]', 'platform': 'Windows-10-10.0.19045-SP0', 'event': 'train'}\n"
      ]
     },
     "metadata": {},
     "output_type": "display_data"
    },
    {
     "data": {
      "text/html": [
       "<pre style=\"white-space:pre;overflow-x:auto;line-height:normal;font-family:Menlo,'DejaVu Sans Mono',consolas,'Courier New',monospace\">EPOCH 0: training on 112727 raw words (73909 effective words) took 0.1s, 1112717 effective words/s\n",
       "</pre>\n"
      ],
      "text/plain": [
       "EPOCH 0: training on 112727 raw words (73909 effective words) took 0.1s, 1112717 effective words/s\n"
      ]
     },
     "metadata": {},
     "output_type": "display_data"
    },
    {
     "data": {
      "text/html": [
       "<pre style=\"white-space:pre;overflow-x:auto;line-height:normal;font-family:Menlo,'DejaVu Sans Mono',consolas,'Courier New',monospace\">EPOCH 1: training on 112727 raw words (73964 effective words) took 0.1s, 1456182 effective words/s\n",
       "</pre>\n"
      ],
      "text/plain": [
       "EPOCH 1: training on 112727 raw words (73964 effective words) took 0.1s, 1456182 effective words/s\n"
      ]
     },
     "metadata": {},
     "output_type": "display_data"
    },
    {
     "data": {
      "text/html": [
       "<pre style=\"white-space:pre;overflow-x:auto;line-height:normal;font-family:Menlo,'DejaVu Sans Mono',consolas,'Courier New',monospace\">EPOCH 2: training on 112727 raw words (73821 effective words) took 0.1s, 1334429 effective words/s\n",
       "</pre>\n"
      ],
      "text/plain": [
       "EPOCH 2: training on 112727 raw words (73821 effective words) took 0.1s, 1334429 effective words/s\n"
      ]
     },
     "metadata": {},
     "output_type": "display_data"
    },
    {
     "data": {
      "text/html": [
       "<pre style=\"white-space:pre;overflow-x:auto;line-height:normal;font-family:Menlo,'DejaVu Sans Mono',consolas,'Courier New',monospace\">EPOCH 3: training on 112727 raw words (73640 effective words) took 0.1s, 1386243 effective words/s\n",
       "</pre>\n"
      ],
      "text/plain": [
       "EPOCH 3: training on 112727 raw words (73640 effective words) took 0.1s, 1386243 effective words/s\n"
      ]
     },
     "metadata": {},
     "output_type": "display_data"
    },
    {
     "data": {
      "text/html": [
       "<pre style=\"white-space:pre;overflow-x:auto;line-height:normal;font-family:Menlo,'DejaVu Sans Mono',consolas,'Courier New',monospace\">EPOCH 4: training on 112727 raw words (73815 effective words) took 0.1s, 1423524 effective words/s\n",
       "</pre>\n"
      ],
      "text/plain": [
       "EPOCH 4: training on 112727 raw words (73815 effective words) took 0.1s, 1423524 effective words/s\n"
      ]
     },
     "metadata": {},
     "output_type": "display_data"
    },
    {
     "data": {
      "text/html": [
       "<pre style=\"white-space:pre;overflow-x:auto;line-height:normal;font-family:Menlo,'DejaVu Sans Mono',consolas,'Courier New',monospace\">Word2Vec lifecycle event {'msg': 'training on 563635 raw words (369149 effective words) took 0.3s, 1138427 effective words/s', 'datetime': '2023-05-17T07:09:44.676932', 'gensim': '4.3.0', 'python': '3.10.9 | packaged by Anaconda, Inc. | (main, Mar  1 2023, 18:18:15) [MSC v.1916 64 bit (AMD64)]', 'platform': 'Windows-10-10.0.19045-SP0', 'event': 'train'}\n",
       "</pre>\n"
      ],
      "text/plain": [
       "Word2Vec lifecycle event {'msg': 'training on 563635 raw words (369149 effective words) took 0.3s, 1138427 effective words/s', 'datetime': '2023-05-17T07:09:44.676932', 'gensim': '4.3.0', 'python': '3.10.9 | packaged by Anaconda, Inc. | (main, Mar  1 2023, 18:18:15) [MSC v.1916 64 bit (AMD64)]', 'platform': 'Windows-10-10.0.19045-SP0', 'event': 'train'}\n"
      ]
     },
     "metadata": {},
     "output_type": "display_data"
    },
    {
     "data": {
      "text/html": [
       "<pre style=\"white-space:pre;overflow-x:auto;line-height:normal;font-family:Menlo,'DejaVu Sans Mono',consolas,'Courier New',monospace\">Word2Vec lifecycle event {'params': 'Word2Vec&lt;vocab=2342, vector_size=100, alpha=0.025&gt;', 'datetime': '2023-05-17T07:09:44.676932', 'gensim': '4.3.0', 'python': '3.10.9 | packaged by Anaconda, Inc. | (main, Mar  1 2023, 18:18:15) [MSC v.1916 64 bit (AMD64)]', 'platform': 'Windows-10-10.0.19045-SP0', 'event': 'created'}\n",
       "</pre>\n"
      ],
      "text/plain": [
       "Word2Vec lifecycle event {'params': 'Word2Vec<vocab=2342, vector_size=100, alpha=0.025>', 'datetime': '2023-05-17T07:09:44.676932', 'gensim': '4.3.0', 'python': '3.10.9 | packaged by Anaconda, Inc. | (main, Mar  1 2023, 18:18:15) [MSC v.1916 64 bit (AMD64)]', 'platform': 'Windows-10-10.0.19045-SP0', 'event': 'created'}\n"
      ]
     },
     "metadata": {},
     "output_type": "display_data"
    },
    {
     "data": {
      "text/html": [
       "<pre style=\"white-space:pre;overflow-x:auto;line-height:normal;font-family:Menlo,'DejaVu Sans Mono',consolas,'Courier New',monospace\">collecting all words and their counts\n",
       "</pre>\n"
      ],
      "text/plain": [
       "collecting all words and their counts\n"
      ]
     },
     "metadata": {},
     "output_type": "display_data"
    },
    {
     "data": {
      "text/html": [
       "<pre style=\"white-space:pre;overflow-x:auto;line-height:normal;font-family:Menlo,'DejaVu Sans Mono',consolas,'Courier New',monospace\">PROGRESS: at sentence #0, processed 0 words, keeping 0 word types\n",
       "</pre>\n"
      ],
      "text/plain": [
       "PROGRESS: at sentence #0, processed 0 words, keeping 0 word types\n"
      ]
     },
     "metadata": {},
     "output_type": "display_data"
    },
    {
     "data": {
      "text/html": [
       "<pre style=\"white-space:pre;overflow-x:auto;line-height:normal;font-family:Menlo,'DejaVu Sans Mono',consolas,'Courier New',monospace\">collected 13088 word types from a corpus of 112727 raw words and 4510 sentences\n",
       "</pre>\n"
      ],
      "text/plain": [
       "collected 13088 word types from a corpus of 112727 raw words and 4510 sentences\n"
      ]
     },
     "metadata": {},
     "output_type": "display_data"
    },
    {
     "data": {
      "text/html": [
       "<pre style=\"white-space:pre;overflow-x:auto;line-height:normal;font-family:Menlo,'DejaVu Sans Mono',consolas,'Courier New',monospace\">Creating a fresh vocabulary\n",
       "</pre>\n"
      ],
      "text/plain": [
       "Creating a fresh vocabulary\n"
      ]
     },
     "metadata": {},
     "output_type": "display_data"
    },
    {
     "data": {
      "text/html": [
       "<pre style=\"white-space:pre;overflow-x:auto;line-height:normal;font-family:Menlo,'DejaVu Sans Mono',consolas,'Courier New',monospace\">Word2Vec lifecycle event {'msg': 'effective_min_count=5 retains 2425 unique words (18.53% of original 13088, drops 10663)', 'datetime': '2023-05-17T07:09:45.182102', 'gensim': '4.3.0', 'python': '3.10.9 | packaged by Anaconda, Inc. | (main, Mar  1 2023, 18:18:15) [MSC v.1916 64 bit (AMD64)]', 'platform': 'Windows-10-10.0.19045-SP0', 'event': 'prepare_vocab'}\n",
       "</pre>\n"
      ],
      "text/plain": [
       "Word2Vec lifecycle event {'msg': 'effective_min_count=5 retains 2425 unique words (18.53% of original 13088, drops 10663)', 'datetime': '2023-05-17T07:09:45.182102', 'gensim': '4.3.0', 'python': '3.10.9 | packaged by Anaconda, Inc. | (main, Mar  1 2023, 18:18:15) [MSC v.1916 64 bit (AMD64)]', 'platform': 'Windows-10-10.0.19045-SP0', 'event': 'prepare_vocab'}\n"
      ]
     },
     "metadata": {},
     "output_type": "display_data"
    },
    {
     "data": {
      "text/html": [
       "<pre style=\"white-space:pre;overflow-x:auto;line-height:normal;font-family:Menlo,'DejaVu Sans Mono',consolas,'Courier New',monospace\">Word2Vec lifecycle event {'msg': 'effective_min_count=5 leaves 97040 word corpus (86.08% of original 112727, drops 15687)', 'datetime': '2023-05-17T07:09:45.184061', 'gensim': '4.3.0', 'python': '3.10.9 | packaged by Anaconda, Inc. | (main, Mar  1 2023, 18:18:15) [MSC v.1916 64 bit (AMD64)]', 'platform': 'Windows-10-10.0.19045-SP0', 'event': 'prepare_vocab'}\n",
       "</pre>\n"
      ],
      "text/plain": [
       "Word2Vec lifecycle event {'msg': 'effective_min_count=5 leaves 97040 word corpus (86.08% of original 112727, drops 15687)', 'datetime': '2023-05-17T07:09:45.184061', 'gensim': '4.3.0', 'python': '3.10.9 | packaged by Anaconda, Inc. | (main, Mar  1 2023, 18:18:15) [MSC v.1916 64 bit (AMD64)]', 'platform': 'Windows-10-10.0.19045-SP0', 'event': 'prepare_vocab'}\n"
      ]
     },
     "metadata": {},
     "output_type": "display_data"
    },
    {
     "data": {
      "text/html": [
       "<pre style=\"white-space:pre;overflow-x:auto;line-height:normal;font-family:Menlo,'DejaVu Sans Mono',consolas,'Courier New',monospace\">deleting the raw counts dictionary of 13088 items\n",
       "</pre>\n"
      ],
      "text/plain": [
       "deleting the raw counts dictionary of 13088 items\n"
      ]
     },
     "metadata": {},
     "output_type": "display_data"
    },
    {
     "data": {
      "text/html": [
       "<pre style=\"white-space:pre;overflow-x:auto;line-height:normal;font-family:Menlo,'DejaVu Sans Mono',consolas,'Courier New',monospace\">sample=0.001 downsamples 52 most-common words\n",
       "</pre>\n"
      ],
      "text/plain": [
       "sample=0.001 downsamples 52 most-common words\n"
      ]
     },
     "metadata": {},
     "output_type": "display_data"
    },
    {
     "data": {
      "text/html": [
       "<pre style=\"white-space:pre;overflow-x:auto;line-height:normal;font-family:Menlo,'DejaVu Sans Mono',consolas,'Courier New',monospace\">Word2Vec lifecycle event {'msg': 'downsampling leaves estimated 71153.01611175472 word corpus (73.3%% of prior 97040)', 'datetime': '2023-05-17T07:09:45.208996', 'gensim': '4.3.0', 'python': '3.10.9 | packaged by Anaconda, Inc. | (main, Mar  1 2023, 18:18:15) [MSC v.1916 64 bit (AMD64)]', 'platform': 'Windows-10-10.0.19045-SP0', 'event': 'prepare_vocab'}\n",
       "</pre>\n"
      ],
      "text/plain": [
       "Word2Vec lifecycle event {'msg': 'downsampling leaves estimated 71153.01611175472 word corpus (73.3%% of prior 97040)', 'datetime': '2023-05-17T07:09:45.208996', 'gensim': '4.3.0', 'python': '3.10.9 | packaged by Anaconda, Inc. | (main, Mar  1 2023, 18:18:15) [MSC v.1916 64 bit (AMD64)]', 'platform': 'Windows-10-10.0.19045-SP0', 'event': 'prepare_vocab'}\n"
      ]
     },
     "metadata": {},
     "output_type": "display_data"
    },
    {
     "data": {
      "text/html": [
       "<pre style=\"white-space:pre;overflow-x:auto;line-height:normal;font-family:Menlo,'DejaVu Sans Mono',consolas,'Courier New',monospace\">estimated required memory for 2425 words and 100 dimensions: 3152500 bytes\n",
       "</pre>\n"
      ],
      "text/plain": [
       "estimated required memory for 2425 words and 100 dimensions: 3152500 bytes\n"
      ]
     },
     "metadata": {},
     "output_type": "display_data"
    },
    {
     "data": {
      "text/html": [
       "<pre style=\"white-space:pre;overflow-x:auto;line-height:normal;font-family:Menlo,'DejaVu Sans Mono',consolas,'Courier New',monospace\">resetting layer weights\n",
       "</pre>\n"
      ],
      "text/plain": [
       "resetting layer weights\n"
      ]
     },
     "metadata": {},
     "output_type": "display_data"
    },
    {
     "data": {
      "text/html": [
       "<pre style=\"white-space:pre;overflow-x:auto;line-height:normal;font-family:Menlo,'DejaVu Sans Mono',consolas,'Courier New',monospace\">Word2Vec lifecycle event {'update': False, 'trim_rule': 'None', 'datetime': '2023-05-17T07:09:45.250883', 'gensim': '4.3.0', 'python': '3.10.9 | packaged by Anaconda, Inc. | (main, Mar  1 2023, 18:18:15) [MSC v.1916 64 bit (AMD64)]', 'platform': 'Windows-10-10.0.19045-SP0', 'event': 'build_vocab'}\n",
       "</pre>\n"
      ],
      "text/plain": [
       "Word2Vec lifecycle event {'update': False, 'trim_rule': 'None', 'datetime': '2023-05-17T07:09:45.250883', 'gensim': '4.3.0', 'python': '3.10.9 | packaged by Anaconda, Inc. | (main, Mar  1 2023, 18:18:15) [MSC v.1916 64 bit (AMD64)]', 'platform': 'Windows-10-10.0.19045-SP0', 'event': 'build_vocab'}\n"
      ]
     },
     "metadata": {},
     "output_type": "display_data"
    },
    {
     "data": {
      "text/html": [
       "<pre style=\"white-space:pre;overflow-x:auto;line-height:normal;font-family:Menlo,'DejaVu Sans Mono',consolas,'Courier New',monospace\">Word2Vec lifecycle event {'msg': 'training model with 4 workers on 2425 vocabulary and 100 features, using sg=0 hs=0 sample=0.001 negative=5 window=5 shrink_windows=True', 'datetime': '2023-05-17T07:09:45.252878', 'gensim': '4.3.0', 'python': '3.10.9 | packaged by Anaconda, Inc. | (main, Mar  1 2023, 18:18:15) [MSC v.1916 64 bit (AMD64)]', 'platform': 'Windows-10-10.0.19045-SP0', 'event': 'train'}\n",
       "</pre>\n"
      ],
      "text/plain": [
       "Word2Vec lifecycle event {'msg': 'training model with 4 workers on 2425 vocabulary and 100 features, using sg=0 hs=0 sample=0.001 negative=5 window=5 shrink_windows=True', 'datetime': '2023-05-17T07:09:45.252878', 'gensim': '4.3.0', 'python': '3.10.9 | packaged by Anaconda, Inc. | (main, Mar  1 2023, 18:18:15) [MSC v.1916 64 bit (AMD64)]', 'platform': 'Windows-10-10.0.19045-SP0', 'event': 'train'}\n"
      ]
     },
     "metadata": {},
     "output_type": "display_data"
    },
    {
     "data": {
      "text/html": [
       "<pre style=\"white-space:pre;overflow-x:auto;line-height:normal;font-family:Menlo,'DejaVu Sans Mono',consolas,'Courier New',monospace\">EPOCH 0: training on 112727 raw words (70975 effective words) took 0.1s, 1206537 effective words/s\n",
       "</pre>\n"
      ],
      "text/plain": [
       "EPOCH 0: training on 112727 raw words (70975 effective words) took 0.1s, 1206537 effective words/s\n"
      ]
     },
     "metadata": {},
     "output_type": "display_data"
    },
    {
     "data": {
      "text/html": [
       "<pre style=\"white-space:pre;overflow-x:auto;line-height:normal;font-family:Menlo,'DejaVu Sans Mono',consolas,'Courier New',monospace\">EPOCH 1: training on 112727 raw words (71194 effective words) took 0.1s, 1416165 effective words/s\n",
       "</pre>\n"
      ],
      "text/plain": [
       "EPOCH 1: training on 112727 raw words (71194 effective words) took 0.1s, 1416165 effective words/s\n"
      ]
     },
     "metadata": {},
     "output_type": "display_data"
    },
    {
     "data": {
      "text/html": [
       "<pre style=\"white-space:pre;overflow-x:auto;line-height:normal;font-family:Menlo,'DejaVu Sans Mono',consolas,'Courier New',monospace\">EPOCH 2: training on 112727 raw words (71255 effective words) took 0.0s, 1617080 effective words/s\n",
       "</pre>\n"
      ],
      "text/plain": [
       "EPOCH 2: training on 112727 raw words (71255 effective words) took 0.0s, 1617080 effective words/s\n"
      ]
     },
     "metadata": {},
     "output_type": "display_data"
    },
    {
     "data": {
      "text/html": [
       "<pre style=\"white-space:pre;overflow-x:auto;line-height:normal;font-family:Menlo,'DejaVu Sans Mono',consolas,'Courier New',monospace\">EPOCH 3: training on 112727 raw words (71137 effective words) took 0.1s, 1350058 effective words/s\n",
       "</pre>\n"
      ],
      "text/plain": [
       "EPOCH 3: training on 112727 raw words (71137 effective words) took 0.1s, 1350058 effective words/s\n"
      ]
     },
     "metadata": {},
     "output_type": "display_data"
    },
    {
     "data": {
      "text/html": [
       "<pre style=\"white-space:pre;overflow-x:auto;line-height:normal;font-family:Menlo,'DejaVu Sans Mono',consolas,'Courier New',monospace\">EPOCH 4: training on 112727 raw words (71203 effective words) took 0.0s, 1519321 effective words/s\n",
       "</pre>\n"
      ],
      "text/plain": [
       "EPOCH 4: training on 112727 raw words (71203 effective words) took 0.0s, 1519321 effective words/s\n"
      ]
     },
     "metadata": {},
     "output_type": "display_data"
    },
    {
     "data": {
      "text/html": [
       "<pre style=\"white-space:pre;overflow-x:auto;line-height:normal;font-family:Menlo,'DejaVu Sans Mono',consolas,'Courier New',monospace\">Word2Vec lifecycle event {'msg': 'training on 563635 raw words (355764 effective words) took 0.3s, 1197878 effective words/s', 'datetime': '2023-05-17T07:09:45.553299', 'gensim': '4.3.0', 'python': '3.10.9 | packaged by Anaconda, Inc. | (main, Mar  1 2023, 18:18:15) [MSC v.1916 64 bit (AMD64)]', 'platform': 'Windows-10-10.0.19045-SP0', 'event': 'train'}\n",
       "</pre>\n"
      ],
      "text/plain": [
       "Word2Vec lifecycle event {'msg': 'training on 563635 raw words (355764 effective words) took 0.3s, 1197878 effective words/s', 'datetime': '2023-05-17T07:09:45.553299', 'gensim': '4.3.0', 'python': '3.10.9 | packaged by Anaconda, Inc. | (main, Mar  1 2023, 18:18:15) [MSC v.1916 64 bit (AMD64)]', 'platform': 'Windows-10-10.0.19045-SP0', 'event': 'train'}\n"
      ]
     },
     "metadata": {},
     "output_type": "display_data"
    },
    {
     "data": {
      "text/html": [
       "<pre style=\"white-space:pre;overflow-x:auto;line-height:normal;font-family:Menlo,'DejaVu Sans Mono',consolas,'Courier New',monospace\">Word2Vec lifecycle event {'params': 'Word2Vec&lt;vocab=2425, vector_size=100, alpha=0.025&gt;', 'datetime': '2023-05-17T07:09:45.554334', 'gensim': '4.3.0', 'python': '3.10.9 | packaged by Anaconda, Inc. | (main, Mar  1 2023, 18:18:15) [MSC v.1916 64 bit (AMD64)]', 'platform': 'Windows-10-10.0.19045-SP0', 'event': 'created'}\n",
       "</pre>\n"
      ],
      "text/plain": [
       "Word2Vec lifecycle event {'params': 'Word2Vec<vocab=2425, vector_size=100, alpha=0.025>', 'datetime': '2023-05-17T07:09:45.554334', 'gensim': '4.3.0', 'python': '3.10.9 | packaged by Anaconda, Inc. | (main, Mar  1 2023, 18:18:15) [MSC v.1916 64 bit (AMD64)]', 'platform': 'Windows-10-10.0.19045-SP0', 'event': 'created'}\n"
      ]
     },
     "metadata": {},
     "output_type": "display_data"
    }
   ],
   "source": [
    "#to transforms the word into vectors. Word2vec is a two-layer net that processes text with words. The input \n",
    "#is in the text corpus and the output is a set of vectors\n",
    "\n",
    "# Split data into training and validation sets\n",
    "train_data, test_data = train_test_split(tweets_data, test_size=0.3, random_state=42)\n",
    "# Train Word2Vec model\n",
    "sentences_st = [sentence_st.split() for sentence_st in train_data[\"cleaned_stemm_text\"]]\n",
    "wordvec_model_st = Word2Vec(sentences_st, vector_size=100, window=5, min_count=5, workers=4)\n",
    "\n",
    "# Define a function to create a document vector using word embeddings\n",
    "def create_doc_vector(tokens, model):\n",
    "    vector_st = np.zeros(model.vector_size)\n",
    "    count = 0\n",
    "    for word in tokens:\n",
    "        if word in model.wv.key_to_index.keys():\n",
    "            vector_st += model.wv[word]\n",
    "            count += 1\n",
    "    if count != 0:\n",
    "        vector_st /= count\n",
    "    return vector_st\n",
    "\n",
    "# Create document vectors for training and validation data with stemmer\n",
    "X_train_stemwv = [create_doc_vector(sentence_st.split(), wordvec_model_st) for sentence_st in train_data[\"cleaned_stemm_text\"]]\n",
    "X_test_stemwv = [create_doc_vector(sentence_st.split(), wordvec_model_st) for sentence_st in test_data[\"cleaned_stemm_text\"]]\n",
    "y_train_stemwv = train_data[\"label\"]\n",
    "y_test_stemwv = test_data[\"label\"]\n",
    "\n",
    "# Train Word2Vec model\n",
    "sentences_lm = [sentence.split() for sentence in train_data[\"cleaned_lemm_text\"]]\n",
    "wordvec_model_lm = Word2Vec(sentences_lm, vector_size=100, window=5, min_count=5, workers=4)\n",
    "\n",
    "# Define a function to create a document vector using word embeddings\n",
    "def create_doc_vector(tokens, model):\n",
    "    vector_lm = np.zeros(model.vector_size)\n",
    "    count = 0\n",
    "    for word in tokens:\n",
    "        if word in model.wv.key_to_index.keys():\n",
    "            vector_lm += model.wv[word]\n",
    "            count += 1\n",
    "    if count != 0:\n",
    "        vector_lm /= count\n",
    "    return vector_lm\n",
    "\n",
    "\n",
    "# Create document vectors for training and validation data with stemmer\n",
    "X_train_lemwv = [create_doc_vector(sentence_lm.split(), wordvec_model_lm) for sentence_lm in train_data[\"cleaned_lemm_text\"]]\n",
    "X_test_lemwv = [create_doc_vector(sentence_lm.split(), wordvec_model_lm) for sentence_lm in test_data[\"cleaned_lemm_text\"]]\n",
    "y_train_lemwv = train_data[\"label\"]\n",
    "y_test_lemwv = test_data[\"label\"]\n",
    "\n"
   ]
  },
  {
   "cell_type": "markdown",
   "id": "8d51d7f6",
   "metadata": {},
   "source": [
    "## Model Building"
   ]
  },
  {
   "cell_type": "markdown",
   "id": "9b6cdfb8",
   "metadata": {},
   "source": [
    "### Support Vector Classifier(SVC) -  is a supervised machine learning algorithm that can be used for both classification and regression challenges. However, it is mostly used in classification problems."
   ]
  },
  {
   "cell_type": "code",
   "execution_count": 17,
   "id": "71b80481",
   "metadata": {},
   "outputs": [
    {
     "name": "stderr",
     "output_type": "stream",
     "text": [
      "C:\\Users\\itele uk\\anaconda3\\lib\\site-packages\\sklearn\\metrics\\_classification.py:1344: UndefinedMetricWarning: Precision is ill-defined and being set to 0.0 in labels with no predicted samples. Use `zero_division` parameter to control this behavior.\n",
      "  _warn_prf(average, modifier, msg_start, len(result))\n"
     ]
    },
    {
     "name": "stdout",
     "output_type": "stream",
     "text": [
      "stem CountV on SVC:                precision    recall  f1-score   support\n",
      "\n",
      "           0       0.32      0.19      0.24        43\n",
      "           1       0.56      0.41      0.47        86\n",
      "           2       0.77      0.82      0.79       754\n",
      "           3       0.56      0.58      0.57       265\n",
      "           4       0.86      0.86      0.86       687\n",
      "           5       0.71      0.55      0.62        98\n",
      "\n",
      "    accuracy                           0.75      1933\n",
      "   macro avg       0.63      0.57      0.59      1933\n",
      "weighted avg       0.75      0.75      0.75      1933\n",
      "\n",
      "lem CountV on SVC:                precision    recall  f1-score   support\n",
      "\n",
      "           0       0.37      0.33      0.35        43\n",
      "           1       0.52      0.37      0.44        86\n",
      "           2       0.78      0.84      0.81       754\n",
      "           3       0.56      0.57      0.56       265\n",
      "           4       0.86      0.86      0.86       687\n",
      "           5       0.65      0.46      0.54        98\n",
      "\n",
      "    accuracy                           0.76      1933\n",
      "   macro avg       0.63      0.57      0.59      1933\n",
      "weighted avg       0.75      0.76      0.75      1933\n",
      "\n",
      "N-gram stem CountV on SVC:                precision    recall  f1-score   support\n",
      "\n",
      "           0       0.62      0.12      0.20        43\n",
      "           1       0.79      0.35      0.48        86\n",
      "           2       0.74      0.87      0.80       754\n",
      "           3       0.58      0.56      0.57       265\n",
      "           4       0.87      0.87      0.87       687\n",
      "           5       0.81      0.52      0.63        98\n",
      "\n",
      "    accuracy                           0.77      1933\n",
      "   macro avg       0.74      0.55      0.59      1933\n",
      "weighted avg       0.77      0.77      0.76      1933\n",
      "\n",
      "N-gram lem CountVon SVC:                precision    recall  f1-score   support\n",
      "\n",
      "           0       1.00      0.02      0.05        43\n",
      "           1       1.00      0.14      0.24        86\n",
      "           2       0.68      0.92      0.78       754\n",
      "           3       0.74      0.37      0.49       265\n",
      "           4       0.85      0.91      0.88       687\n",
      "           5       0.81      0.27      0.40        98\n",
      "\n",
      "    accuracy                           0.75      1933\n",
      "   macro avg       0.85      0.44      0.47      1933\n",
      "weighted avg       0.78      0.75      0.72      1933\n",
      "\n",
      "stem Tfidf on SVC:                precision    recall  f1-score   support\n",
      "\n",
      "           0       1.00      0.02      0.05        43\n",
      "           1       0.92      0.26      0.40        86\n",
      "           2       0.73      0.89      0.80       754\n",
      "           3       0.63      0.53      0.58       265\n",
      "           4       0.87      0.90      0.88       687\n",
      "           5       0.87      0.47      0.61        98\n",
      "\n",
      "    accuracy                           0.78      1933\n",
      "   macro avg       0.84      0.51      0.55      1933\n",
      "weighted avg       0.79      0.78      0.76      1933\n",
      "\n",
      "lem Tfidf on SVC:                precision    recall  f1-score   support\n",
      "\n",
      "           0       1.00      0.02      0.05        43\n",
      "           1       0.95      0.24      0.39        86\n",
      "           2       0.73      0.91      0.81       754\n",
      "           3       0.65      0.52      0.58       265\n",
      "           4       0.87      0.90      0.88       687\n",
      "           5       0.85      0.41      0.55        98\n",
      "\n",
      "    accuracy                           0.78      1933\n",
      "   macro avg       0.84      0.50      0.54      1933\n",
      "weighted avg       0.79      0.78      0.76      1933\n",
      "\n",
      "N-gram stem Tfidf on SVC:                precision    recall  f1-score   support\n",
      "\n",
      "           0       1.00      0.02      0.05        43\n",
      "           1       1.00      0.15      0.26        86\n",
      "           2       0.69      0.91      0.79       754\n",
      "           3       0.74      0.40      0.52       265\n",
      "           4       0.84      0.92      0.88       687\n",
      "           5       0.81      0.27      0.40        98\n",
      "\n",
      "    accuracy                           0.76      1933\n",
      "   macro avg       0.85      0.45      0.48      1933\n",
      "weighted avg       0.78      0.76      0.72      1933\n",
      "\n",
      "N-gram lem Tfidf on SVC:                precision    recall  f1-score   support\n",
      "\n",
      "           0       1.00      0.02      0.05        43\n",
      "           1       1.00      0.14      0.24        86\n",
      "           2       0.68      0.92      0.78       754\n",
      "           3       0.74      0.37      0.49       265\n",
      "           4       0.85      0.91      0.88       687\n",
      "           5       0.81      0.27      0.40        98\n",
      "\n",
      "    accuracy                           0.75      1933\n",
      "   macro avg       0.85      0.44      0.47      1933\n",
      "weighted avg       0.78      0.75      0.72      1933\n",
      "\n",
      "stemWord2Vect on SVC:                precision    recall  f1-score   support\n",
      "\n",
      "           0       0.00      0.00      0.00        43\n",
      "           1       0.00      0.00      0.00        86\n",
      "           2       0.41      0.44      0.43       754\n",
      "           3       0.00      0.00      0.00       265\n",
      "           4       0.37      0.59      0.45       687\n",
      "           5       0.00      0.00      0.00        98\n",
      "\n",
      "    accuracy                           0.38      1933\n",
      "   macro avg       0.13      0.17      0.15      1933\n",
      "weighted avg       0.29      0.38      0.33      1933\n",
      "\n",
      "lemWord2Vect on SVC:                precision    recall  f1-score   support\n",
      "\n",
      "           0       0.00      0.00      0.00        43\n",
      "           1       0.00      0.00      0.00        86\n",
      "           2       0.40      0.44      0.42       754\n",
      "           3       0.00      0.00      0.00       265\n",
      "           4       0.36      0.58      0.44       687\n",
      "           5       0.00      0.00      0.00        98\n",
      "\n",
      "    accuracy                           0.38      1933\n",
      "   macro avg       0.13      0.17      0.14      1933\n",
      "weighted avg       0.28      0.38      0.32      1933\n",
      "\n",
      "Confusion Matrix on BOW stem:  [[  8   4  17  11   1   2]\n",
      " [  0  35  17  21  10   3]\n",
      " [  6   6 619  59  57   7]\n",
      " [  6   9  69 153  22   6]\n",
      " [  1   6  67  19 590   4]\n",
      " [  4   2  17  12   9  54]]\n",
      "Confusion Matrix on BOW lem:  [[ 14   2  13  12   1   1]\n",
      " [  4  32  16  19  10   5]\n",
      " [  6   7 636  55  43   7]\n",
      " [ 10   7  59 150  32   7]\n",
      " [  1   9  61  21 591   4]\n",
      " [  3   4  27   9  10  45]]\n",
      "Accuracy score for SVC on BOW stem:  75.47853078116916 % ,  Precision:  62.92849422416646 % ,  F1:  0.5911285492639566\n",
      "Accuracy score for SVC on BOW lem:  75.94412829798242 % ,  Precision:  62.543469071771526 % ,  F1:  0.5929116023731146\n",
      "Confusion Matrix with SVCN-gram stemmed Count:  [[  5   0  21  13   3   1]\n",
      " [  0  30  27  23   6   0]\n",
      " [  1   0 654  50  44   5]\n",
      " [  1   3  84 149  26   2]\n",
      " [  0   3  64  15 601   4]\n",
      " [  1   2  30   5   9  51]]\n",
      "Confusion Matrix with SVCN-gram lem Count:  [[  5   0  25  12   1   0]\n",
      " [  0  28  29  21   8   0]\n",
      " [  0   1 658  46  44   5]\n",
      " [  2   3  89 141  27   3]\n",
      " [  0   3  65  15 602   2]\n",
      " [  0   3  33   6   9  47]]\n",
      "Accuracy score for SVM with N-gram stemmed Count:  77.08225556130367 % ,  Precision:  73.72952836896408 ,  % F1:  0.5934338004288923\n",
      "Accuracy score for SVM with N-gram lem Count:  75.2198654940507 % ,  Precision:  74.39794969773988 ,  % F1:  0.5808725107164109\n",
      "Confusion Matrix for SVM with stem Tfidf:  [[  1   1  25  14   2   0]\n",
      " [  0  22  32  18  13   1]\n",
      " [  0   0 673  37  39   5]\n",
      " [  0   0  95 141  28   1]\n",
      " [  0   1  64   6 616   0]\n",
      " [  0   0  31   7  14  46]]\n",
      "Confusion Matrix for SVM with lem Tfidf:  [[  1   0  26  13   3   0]\n",
      " [  0  21  31  19  15   0]\n",
      " [  0   0 686  29  34   5]\n",
      " [  0   0  94 137  32   2]\n",
      " [  0   1  63   4 619   0]\n",
      " [  0   0  40   8  10  40]]\n",
      "Accuracy score for SVM with stem Tfidf:  77.54785307811692 % ,  Precision:  83.5594744823421 % ,  F1:  0.5528810114107056\n",
      "Accuracy score for SVM with lem Tfidf:  77.80651836523539 % ,  Precision:  84.26566939338865 % ,  F1:  0.5428521245325403\n",
      "Confusion Matrix with N-gram stemmed tfidf:  [[  1   0  31   5   6   0]\n",
      " [  0  13  42  13  18   0]\n",
      " [  0   0 689  16  44   5]\n",
      " [  0   0 122 106  36   1]\n",
      " [  0   0  56   1 630   0]\n",
      " [  0   0  57   2  13  26]]\n",
      "Confusion Matrix with N-gram lem tfidf:  [[  1   0  31   5   6   0]\n",
      " [  0  12  46  13  15   0]\n",
      " [  0   0 693  14  42   5]\n",
      " [  0   0 128  98  38   1]\n",
      " [  0   0  62   1 624   0]\n",
      " [  0   0  58   1  13  26]]\n",
      "Accuracy score for SVM with SVCN-gram stemmed tfidf:  75.78892912571132 % ,  Precision:  84.80342424822703 ,  % F1:  0.4822214347169603\n",
      "Accuracy score for SVM with SVCN-gram lem tfidf:  75.2198654940507 % ,  Precision:  84.68665432658078 ,  % F1:  0.47366863199877945\n",
      "Confusion Matrix with Word2Vec stem:  [[  0   0  13   0  26   0]\n",
      " [  0   0  32   0  55   0]\n",
      " [  0   0 465   0 281   0]\n",
      " [  0   0 124   0 148   0]\n",
      " [  0   0 149   0 553   0]\n",
      " [  0   0  38   0  49   0]]\n",
      "Confusion Matrix with Word2Vec stem:  [[  0   0  14   0  25   0]\n",
      " [  0   0  31   0  56   0]\n",
      " [  0   0 473   0 273   0]\n",
      " [  0   0 121   0 151   0]\n",
      " [  0   0 161   0 541   0]\n",
      " [  0   0  38   0  49   0]]\n",
      "Accuracy score for SVM with Word2Vec stem:  52.664252457320224 % ,  Precision:  17.728076978125173 ,  % F1:  0.20053217699581616\n",
      "Accuracy score for SVM with Word2Vec lem:  52.457320227625445 % ,  Precision:  17.64171779586825 ,  % F1:  0.1998894762876399\n"
     ]
    },
    {
     "name": "stderr",
     "output_type": "stream",
     "text": [
      "C:\\Users\\itele uk\\anaconda3\\lib\\site-packages\\sklearn\\metrics\\_classification.py:1344: UndefinedMetricWarning: Precision is ill-defined and being set to 0.0 in labels with no predicted samples. Use `zero_division` parameter to control this behavior.\n",
      "  _warn_prf(average, modifier, msg_start, len(result))\n",
      "C:\\Users\\itele uk\\anaconda3\\lib\\site-packages\\sklearn\\metrics\\_classification.py:1344: UndefinedMetricWarning: Precision and F-score are ill-defined and being set to 0.0 in labels with no predicted samples. Use `zero_division` parameter to control this behavior.\n",
      "  _warn_prf(average, modifier, msg_start, len(result))\n",
      "C:\\Users\\itele uk\\anaconda3\\lib\\site-packages\\sklearn\\metrics\\_classification.py:1344: UndefinedMetricWarning: Precision and F-score are ill-defined and being set to 0.0 in labels with no predicted samples. Use `zero_division` parameter to control this behavior.\n",
      "  _warn_prf(average, modifier, msg_start, len(result))\n",
      "C:\\Users\\itele uk\\anaconda3\\lib\\site-packages\\sklearn\\metrics\\_classification.py:1344: UndefinedMetricWarning: Precision and F-score are ill-defined and being set to 0.0 in labels with no predicted samples. Use `zero_division` parameter to control this behavior.\n",
      "  _warn_prf(average, modifier, msg_start, len(result))\n",
      "C:\\Users\\itele uk\\anaconda3\\lib\\site-packages\\sklearn\\metrics\\_classification.py:1344: UndefinedMetricWarning: Precision and F-score are ill-defined and being set to 0.0 in labels with no predicted samples. Use `zero_division` parameter to control this behavior.\n",
      "  _warn_prf(average, modifier, msg_start, len(result))\n",
      "C:\\Users\\itele uk\\anaconda3\\lib\\site-packages\\sklearn\\metrics\\_classification.py:1344: UndefinedMetricWarning: Precision and F-score are ill-defined and being set to 0.0 in labels with no predicted samples. Use `zero_division` parameter to control this behavior.\n",
      "  _warn_prf(average, modifier, msg_start, len(result))\n",
      "C:\\Users\\itele uk\\anaconda3\\lib\\site-packages\\sklearn\\metrics\\_classification.py:1344: UndefinedMetricWarning: Precision and F-score are ill-defined and being set to 0.0 in labels with no predicted samples. Use `zero_division` parameter to control this behavior.\n",
      "  _warn_prf(average, modifier, msg_start, len(result))\n"
     ]
    }
   ],
   "source": [
    "#Bag of Words(BOW) with Stemmertizer\n",
    "# classify using support vector classifier\n",
    "svm = svm.SVC(kernel = 'linear', probability=True)\n",
    "# fit the SVC Model based on the given training data with stem\n",
    "y_pred_svm1 = svm.fit(X_train_vec_stem, y_train_stem).predict(X_test_vec_stem)\n",
    "# perform classification and prediction on samples in the X_test\n",
    "conf_mat_SVMcv = confusion_matrix(y_test_stem, y_pred_svm1)\n",
    "precision_SVMb = precision_score(y_test_stem, y_pred_svm1, average='macro')\n",
    "f1_bow = f1_score(y_test_stem, y_pred_svm1, average='macro')\n",
    "# fit the SVC Model based on the given training data and perform classification and prediction with lemmatizer\n",
    "y_pred_svm2 = svm.fit(X_train_vec_lem, y_train_lem).predict(X_test_vec_lem)\n",
    "# perform classification and prediction on samples in the X_test\n",
    "#F1 score is a machine learning evaluation metric that measures a model's accuracy. \n",
    "#Accuracy is the fraction of correct predictions made by a classifier over all the instances in the test set. \n",
    "#On the other hand, precision is a metric that measures the accuracy of positive predictions\n",
    "conf_mat_SVMlcv = confusion_matrix(y_test_lem, y_pred_svm2)\n",
    "precision_SVMlb = precision_score(y_test_lem, y_pred_svm2, average='macro')\n",
    "f1_lBow = f1_score(y_test_lem, y_pred_svm2, average='macro')\n",
    "\n",
    "\n",
    "\n",
    "#Bag of Words(BOW) with stemmer on N-gram with stem\n",
    "# fit the SVC Model based on the given training data\n",
    "y_pred_svmngcv = svm.fit(X_train_ngstem, y_train_stem).predict(X_test_ngstem)\n",
    "# perform classification and prediction on samples in the X_test\n",
    "conf_mat_SVMngcv = confusion_matrix(y_test_stem, y_pred_svmngcv)\n",
    "precision_SVMngcv = precision_score(y_test_stem, y_pred_svmngcv, average='macro')\n",
    "f1_ngcv = f1_score(y_test_stem, y_pred_svmngcv, average='macro')\n",
    "#Bag of Words(BOW) with stemmer on N-gram with lem\n",
    "# fit the SVC Model based on the given training data with lemm\n",
    "y_pred_svmnglv = svm.fit(X_train_nglem, y_train_lem).predict(X_test_nglem)\n",
    "# perform classification and prediction on samples in the X_test\n",
    "conf_mat_SVMnglv = confusion_matrix(y_test_lem, y_pred_svmnglv)\n",
    "precision_SVMnglv = precision_score(y_test_lem, y_pred_svmnglv, average='macro')\n",
    "f1_nglv = f1_score(y_test_lem, y_pred_svmnglv, average='macro')\n",
    "\n",
    "#Tfidf with Stemmer\n",
    "# fit the SVC Model based on the given training data\n",
    "y_pred_svmtfidf = svm.fit(X_train_tfidfst, y_train_stem).predict(X_test_tfidfst)\n",
    "# perform classification and prediction on samples in the X_test\n",
    "conf_mat_SVMtfidf = confusion_matrix(y_test_stem, y_pred_svmtfidf)\n",
    "precision_SVMtfidf = precision_score(y_test_stem, y_pred_svmtfidf, average='macro')\n",
    "f1_tfidf = f1_score(y_test_stem, y_pred_svmtfidf, average='macro')\n",
    "#Tfidf with lemmer\n",
    "# fit the SVC Model based on the given training data\n",
    "y_pred_svmtfidfl = svm.fit(X_train_tfidflm, y_train_lem).predict(X_test_tfidflm)\n",
    "# perform classification and prediction on samples in the X_test\n",
    "conf_mat_SVMtfidfl = confusion_matrix(y_test_lem, y_pred_svmtfidfl)\n",
    "precision_SVMtfidfl = precision_score(y_test_lem, y_pred_svmtfidfl, average='macro')\n",
    "f1_tfidfl = f1_score(y_test_lem, y_pred_svmtfidfl, average='macro')\n",
    "\n",
    "#Tfidf with stemmer on N-gram with stem\n",
    "# fit the logistic regressing Model based on the given training data with stem\n",
    "y_pred_svmngsv = svm.fit(X_train_ngtfidfst, y_train_stem).predict(X_test_ngtfidfst)\n",
    "# perform classification and prediction on samples in the X_test\n",
    "conf_mat_SVMngsv = confusion_matrix(y_test_stem, y_pred_svmngsv)\n",
    "precision_SVMngsv = precision_score(y_test_stem, y_pred_svmngsv, average='macro')\n",
    "f1_ngsv = f1_score(y_test_stem, y_pred_svmngsv, average='macro')\n",
    "#Tfidf with stemmer on N-gram with stem\n",
    "# fit the logistic regressing Model based on the given training data woth lemm\n",
    "y_pred_svmnglv = svm.fit(X_train_ngtfidflm, y_train_lem).predict(X_test_ngtfidflm)\n",
    "# perform classification and prediction on samples in the X_test\n",
    "conf_mat_SVMnglmv = confusion_matrix(y_test_lem, y_pred_svmnglv)\n",
    "precision_SVMnglmv = precision_score(y_test_lem, y_pred_svmnglv, average='macro')\n",
    "f1_nglmv = f1_score(y_test_lem, y_pred_svmnglv, average='macro')\n",
    "\n",
    "#CountVectorizer with Stemmed on Word2Vect\n",
    "# fit the SVC Model based on the given training data\n",
    "y_pred_svmw = svm.fit(X_train_stemwv, y_train_stemwv).predict(X_test_stemwv)\n",
    "# perform classification and prediction on samples in the X_test\n",
    "#y_pred_svmw = svm.predict(X_test_stemwv)\n",
    "conf_mat_SVMw = confusion_matrix(y_test_stemwv, y_pred_svmw)\n",
    "precision_SVMw = precision_score(y_test_stemwv, y_pred_svmw, average='macro')\n",
    "f1_smvw = f1_score(y_test_stemwv, y_pred_svmw, average='macro')\n",
    "#Tfidf with lemmed on Word2Vect\n",
    "# fit the SVC Model based on the given training data\n",
    "y_pred_svmwl = svm.fit(X_train_lemwv, y_train_lemwv).predict(X_test_lemwv)\n",
    "# perform classification and prediction on samples in the X_test\n",
    "#y_pred_svmwl = svm.predict(X_test_lemwv)\n",
    "conf_mat_SVMwl = confusion_matrix(y_test_lemwv, y_pred_svmwl)\n",
    "precision_SVMwl = precision_score(y_test_lemwv, y_pred_svmwl, average='macro')\n",
    "f1_smvwl = f1_score(y_test_stemwv, y_pred_svmwl, average='macro')\n",
    "\n",
    "#Using the classification report visualizer to displays the precision, recall, F1, and support scores for this model.\n",
    "print(\"stem CountV on SVC: \", classification_report(y_test_stem, y_pred_svm1))\n",
    "print(\"lem CountV on SVC: \", classification_report(y_test_lem, y_pred_svm2))\n",
    "print(\"N-gram stem CountV on SVC: \", classification_report(y_test_stem, y_pred_svmngcv))\n",
    "print(\"N-gram lem CountVon SVC: \", classification_report(y_test_lem, y_pred_svmnglv))\n",
    "print(\"stem Tfidf on SVC: \", classification_report(y_test_stem, y_pred_svmtfidf))\n",
    "print(\"lem Tfidf on SVC: \", classification_report(y_test_lem, y_pred_svmtfidfl))\n",
    "print(\"N-gram stem Tfidf on SVC: \", classification_report(y_test_stem, y_pred_svmngsv))\n",
    "print(\"N-gram lem Tfidf on SVC: \", classification_report(y_test_lem, y_pred_svmnglv))\n",
    "print(\"stemWord2Vect on SVC: \", classification_report(y_test_stem,y_pred_svmw))\n",
    "print(\"lemWord2Vect on SVC: \", classification_report(y_test_lem, y_pred_svmwl))\n",
    "\n",
    "print(\"Confusion Matrix on BOW stem: \", conf_mat_SVMcv)\n",
    "print(\"Confusion Matrix on BOW lem: \", conf_mat_SVMlcv)\n",
    "print(\"Accuracy score for SVC on BOW stem: \", accuracy_score(y_test_stem, y_pred_svm1) * 100, '%', ', ', \"Precision: \", precision_SVMb * 100, '%', ', ', \"F1: \", f1_bow)\n",
    "print(\"Accuracy score for SVC on BOW lem: \", accuracy_score(y_test_stem, y_pred_svm2) * 100, '%', ', ', \"Precision: \", precision_SVMlb * 100, '%', ', ', \"F1: \", f1_lBow)\n",
    "print(\"Confusion Matrix with SVCN-gram stemmed Count: \", conf_mat_SVMngcv)\n",
    "print(\"Confusion Matrix with SVCN-gram lem Count: \", conf_mat_SVMnglv)\n",
    "print(\"Accuracy score for SVM with N-gram stemmed Count: \", accuracy_score(y_test_stem, y_pred_svmngcv) * 100, '%', ', ', \"Precision: \", precision_SVMngcv * 100, ', ', '%', \"F1: \", f1_ngcv)\n",
    "print(\"Accuracy score for SVM with N-gram lem Count: \", accuracy_score(y_test_stem, y_pred_svmnglv) * 100, '%', ', ', \"Precision: \", precision_SVMnglv * 100, ', ', '%', \"F1: \", f1_nglv)\n",
    "print(\"Confusion Matrix for SVM with stem Tfidf: \", conf_mat_SVMtfidf)\n",
    "print(\"Confusion Matrix for SVM with lem Tfidf: \", conf_mat_SVMtfidfl)\n",
    "print(\"Accuracy score for SVM with stem Tfidf: \", accuracy_score(y_test_stem, y_pred_svmtfidf) * 100, '%', ', ', \"Precision: \", precision_SVMtfidf * 100, '%', ', ', \"F1: \", f1_tfidf)\n",
    "print(\"Accuracy score for SVM with lem Tfidf: \", accuracy_score(y_test_lem, y_pred_svmtfidfl) * 100, '%', ', ', \"Precision: \", precision_SVMtfidfl * 100, '%', ', ', \"F1: \", f1_tfidfl)\n",
    "print(\"Confusion Matrix with N-gram stemmed tfidf: \", conf_mat_SVMngsv)\n",
    "print(\"Confusion Matrix with N-gram lem tfidf: \", conf_mat_SVMnglmv)\n",
    "print(\"Accuracy score for SVM with SVCN-gram stemmed tfidf: \", accuracy_score(y_test_stem, y_pred_svmngsv) * 100, '%', ', ', \"Precision: \", precision_SVMngsv * 100, ', ', '%', \"F1: \", f1_ngsv)\n",
    "print(\"Accuracy score for SVM with SVCN-gram lem tfidf: \", accuracy_score(y_test_stem, y_pred_svmnglv) * 100, '%', ', ', \"Precision: \", precision_SVMnglmv * 100, ', ', '%', \"F1: \", f1_nglmv)\n",
    "print(\"Confusion Matrix with Word2Vec stem: \", conf_mat_SVMw)\n",
    "print(\"Confusion Matrix with Word2Vec stem: \", conf_mat_SVMwl)\n",
    "print(\"Accuracy score for SVM with Word2Vec stem: \", accuracy_score(y_test_stemwv, y_pred_svmw) * 100, '%', ', ', \"Precision: \", precision_SVMw * 100, ', ', '%', \"F1: \", f1_smvw)\n",
    "print(\"Accuracy score for SVM with Word2Vec lem: \", accuracy_score(y_test_lemwv, y_pred_svmwl) * 100, '%', ', ', \"Precision: \", precision_SVMwl * 100, ', ', '%', \"F1: \", f1_smvwl)\n"
   ]
  },
  {
   "cell_type": "markdown",
   "id": "bb0bb976",
   "metadata": {},
   "source": [
    "## LogisticRegression - It is used to predict a binary outcome"
   ]
  },
  {
   "cell_type": "code",
   "execution_count": null,
   "id": "41a52803",
   "metadata": {},
   "outputs": [],
   "source": [
    "#Bag of Words with Stemmertizer\n",
    "log_reg = LogisticRegression(max_iter = 200)\n",
    "# Make predictions on the testing set on Bag of words\n",
    "predicted_log_stem = log_reg.fit(X_train_vec_stem, y_train_stem).predict(X_test_vec_stem)\n",
    "score_lr_st = accuracy_score(predicted_log_stem, y_test_stem)\n",
    "conf_mat_lr_st = confusion_matrix(y_test_stem, predicted_log_stem)\n",
    "precision_lr_st = precision_score(y_test_stem, predicted_log_stem, average='macro')\n",
    "f1_st = f1_score(y_test_stem, predicted_log_stem, average='macro')\n",
    "#Bag of Words with lemmertizer\n",
    "# Make predictions on the testing set on Bag of words\n",
    "predicted_log_lem = log_reg.fit(X_train_vec_lem, y_train_lem).predict(X_test_vec_lem)\n",
    "score_lr_lm = accuracy_score(predicted_log_lem, y_test_lem)\n",
    "conf_mat_lr_lm = confusion_matrix(y_test_lem, predicted_log_lem)\n",
    "precision_lr_lm = precision_score(y_test_lem, predicted_log_lem, average='macro')\n",
    "f1_lm = f1_score(y_test_lem, predicted_log_lem, average='macro')\n",
    "#N-gram vectorizer with Stemmertizer on n-gram\n",
    "# Make predictions on the testing set on n-gram vectorizer\n",
    "predicted_log_ngstem = log_reg.fit(X_train_ngstem, y_train_stem).predict(X_test_ngstem)\n",
    "score_lr_ngst = accuracy_score(predicted_log_ngstem, y_test_stem)\n",
    "conf_mat_lr_ngst = confusion_matrix(y_test_stem, predicted_log_ngstem)\n",
    "precision_lr_ngst = precision_score(y_test_stem, predicted_log_ngstem, average='macro')\n",
    "f1_ngst = f1_score(y_test_stem, predicted_log_ngstem, average='macro')\n",
    "#N-gram vectorizer with lemmertizer\n",
    "# Make predictions on the testing set on n-gram vectorizer\n",
    "predicted_log_nglem = log_reg.fit(X_train_nglem, y_train_lem).predict(X_test_nglem)\n",
    "score_lr_nglm = accuracy_score(predicted_log_nglem, y_test_lem)\n",
    "conf_mat_lr_nglm = confusion_matrix(y_test_lem, predicted_log_nglem)\n",
    "precision_lr_nglm = precision_score(y_test_lem, predicted_log_nglem, average='macro')\n",
    "f1_nglm = f1_score(y_test_lem, predicted_log_nglem, average='macro')\n",
    "\n",
    "#Tfidf with Stemmertizer\n",
    "# Make predictions on the testing set on Tf-idf\n",
    "predicted_log_tfidfst = log_reg.fit(X_train_tfidfst, y_train_stem).predict(X_test_tfidfst)\n",
    "score_lr_tfidfst = accuracy_score(predicted_log_tfidfst, y_test_stem)\n",
    "conf_mat_lr_tfidfst = confusion_matrix(y_test_stem, predicted_log_tfidfst)\n",
    "precision_lr_tfidfst = precision_score(y_test_stem, predicted_log_tfidfst, average='macro')\n",
    "f1_tfidfst = f1_score(y_test_stem, predicted_log_tfidfst, average='macro')\n",
    "#Tfidf with lemmertizer\n",
    "# Make predictions on the testing set on Tf-idf\n",
    "predicted_log_tfidflm = log_reg.fit(X_train_tfidflm, y_train_lem).predict(X_test_tfidflm)\n",
    "score_lr_tfidflm = accuracy_score(predicted_log_tfidflm, y_test_lem)\n",
    "conf_mat_lr_tfidflm = confusion_matrix(y_test_lem, predicted_log_tfidflm)\n",
    "precision_lr_tfidflm = precision_score(y_test_lem, predicted_log_tfidflm, average='macro')\n",
    "f1_tfidflm = f1_score(y_test_lem, predicted_log_tfidflm, average='macro')\n",
    "\n",
    "#N-gram tfidf with Stemmertizer\n",
    "# Make predictions on the testing set on n-gram tf-idf\n",
    "predicted_log_ngtfidfst = log_reg.fit(X_train_ngtfidfst, y_train_stem).predict(X_test_ngtfidfst)\n",
    "score_lr_ngtfidfst = accuracy_score(predicted_log_ngtfidfst, y_test_stem)\n",
    "conf_mat_lr_ngtfidfst = confusion_matrix(y_test_stem, predicted_log_ngtfidfst)\n",
    "precision_lr_ngtfidfst = precision_score(y_test_stem, predicted_log_ngtfidfst, average='macro')\n",
    "f1_ngtfidfst = f1_score(y_test_stem, predicted_log_ngtfidfst, average='macro')\n",
    "#N-gram tfidf with lemmertizer\n",
    "# Make predictions on the testing set on n-gram tf-idf\n",
    "predicted_log_ngtfidflm = log_reg.fit(X_train_ngtfidflm, y_train_lem).predict(X_test_ngtfidflm)\n",
    "score_lr_ngtfidflm = accuracy_score(predicted_log_ngtfidflm, y_test_lem)\n",
    "conf_mat_lr_ngtfidflm = confusion_matrix(y_test_lem, predicted_log_ngtfidflm)\n",
    "precision_lr_ngtfidflm = precision_score(y_test_lem, predicted_log_ngtfidflm, average='macro')\n",
    "f1_ngtfidflm = f1_score(y_test_lem, predicted_log_ngtfidflm, average='macro')\n",
    "\n",
    "#CountVectorizer with Stemmed on Word2Vect\n",
    "# fit the SVC Model based on the given training data\n",
    "y_pred_lrstwv = log_reg.fit(X_train_stemwv, y_train_stemwv).predict(X_test_stemwv)\n",
    "# perform classification and prediction on samples in the X_test\n",
    "conf_mat_lrstwv = confusion_matrix(y_test_stemwv, y_pred_lrstwv)\n",
    "precision_lrstwv = precision_score(y_test_stemwv, y_pred_lrstwv, average='macro')\n",
    "f1_lrstwv = f1_score(y_test_stemwv, y_pred_lrstwv, average='macro')\n",
    "# fit the SVC Model based on the given training data\n",
    "y_pred_lmwvtf= log_reg.fit(X_train_lemwv, y_train_lemwv).predict(X_test_lemwv)\n",
    "# perform classification and prediction on samples in the X_test\n",
    "#_pred_lmwvtf= svm.predict(X_test_lemwv)\n",
    "conf_mat_lmwvtf= confusion_matrix(y_test_lemwv, y_pred_lmwvtf)\n",
    "precision_lmwvtf= precision_score(y_test_lemwv, y_pred_lmwvtf, average='macro')\n",
    "f1_lmwvtf = f1_score(y_test_stemwv, y_pred_lmwvtf, average='macro')\n",
    "\n",
    "print(\"stem CountV on LogReg: \", classification_report(y_test_stem, predicted_log_stem))\n",
    "print(\"lem CountV on LogReg: \", classification_report(y_test_lem, predicted_log_lem))\n",
    "print(\"N-gram stem CountV on LogReg: \", classification_report(y_test_stem, predicted_log_ngstem))\n",
    "print(\"N-gram lem CountVon LogReg: \", classification_report(y_test_lem, predicted_log_nglem))\n",
    "print(\"stem Tfidf on LogReg: \", classification_report(y_test_stem, predicted_log_tfidfst))\n",
    "print(\"lem Tfidf on LogReg: \", classification_report(y_test_lem, predicted_log_tfidflm))\n",
    "print(\"N-gram stem Tfidf on LogReg: \", classification_report(y_test_stem, predicted_log_ngtfidfst))\n",
    "print(\"N-gram lem Tfidf on LogReg: \", classification_report(y_test_lem, predicted_log_ngtfidflm))\n",
    "print(\"stemWord2Vect on LogReg: \", classification_report(y_test_stem, y_pred_lrstwv))\n",
    "print(\"lemWord2Vect on LogReg: \", classification_report(y_test_lem, y_pred_lmwvtf))\n",
    "print(\"Confusion Matrix: \", conf_mat_lr_st) \n",
    "print(\"Confusion Matrix: \", conf_mat_lr_lm)\n",
    "print(\"Accuracy with stem log_reg: \", score_lr_st * 100, '%',  ', ', \"Precision: \", precision_lr_st * 100, '%', ', ', \"F1 score with log_reg: \", f1_st)\n",
    "print(\"Accuracy with lem log_reg: \", score_lr_lm * 100, '%', ', ',  \"Precision: \", precision_lr_lm * 100, '%', ', ', \"F1 score with log_reg: \", f1_lm)\n",
    "print(\"Confusion Matrix: \", conf_mat_lr_ngst)\n",
    "print(\"Confusion Matrix: \", conf_mat_lr_nglm)\n",
    "print(\"Accuracy with stem log_reg: \", score_lr_ngst * 100, '%', ', ', \"Precision: \", precision_lr_ngst * 100, '%', ', ', \"F1: \", f1_ngst)\n",
    "print(\"Accuracy with lem log_reg: \", score_lr_nglm * 100, '%', ', ', \"Precision: \", precision_lr_nglm * 100, '%', ', ', \"F1: \", f1_nglm)\n",
    "print(\"Confusion Matrix: \", conf_mat_lr_tfidfst)\n",
    "print(\"Confusion Matrix: \", conf_mat_lr_tfidflm)\n",
    "print(\"Accuracy with stem log_reg: \", score_lr_tfidfst * 100, '%', ', ', \"Precision: \", precision_lr_tfidfst * 100, '%', ', ', \"F1: \", f1_tfidfst)\n",
    "print(\"Accuracy with lem log_reg: \", score_lr_tfidflm * 100, '%', ', ', \"Precision: \", precision_lr_tfidflm * 100, '%', ', ', \"F1: \", f1_tfidflm)\n",
    "print(\"Confusion Matrix: \", conf_mat_lr_ngtfidfst)\n",
    "print(\"Confusion Matrix: \", conf_mat_lr_ngtfidflm)\n",
    "print(\"Accuracy with stem log_reg: \", score_lr_ngtfidfst * 100, '%', ', ', \"Precision: \", precision_lr_ngtfidfst * 100, '%', ', ', \"F1: \", f1_ngtfidfst)\n",
    "print(\"Accuracy with lem log_reg: \", score_lr_ngtfidflm * 100, '%', ', ', \"Precision: \", precision_lr_ngtfidflm * 100, '%', ', ', \"F1: \", f1_ngtfidflm)\n",
    "print(\"Confusion Matrix with stem log_reg \", conf_mat_lmwvtf)\n",
    "print(\"Confusion Matrix with lem log_reg \", conf_mat_lmwvtf)\n",
    "print(\"Accuracy score with stem log_reg : \", accuracy_score(y_test_stemwv, y_pred_lrstwv) * 100, '%', ', ', \"Precision: \", precision_lrstwv * 100, '%', ', ', \"F1: \", f1_lrstwv)\n",
    "print(\"Accuracy score  with lem log_reg: \", accuracy_score(y_test_lemwv, y_pred_lmwvtf) * 100, '%', ', ', \"Precision: \", precision_lmwvtf * 100, '%', ', ', \"F1: \", f1_lmwvtf)\n"
   ]
  },
  {
   "cell_type": "markdown",
   "id": "688c03fb",
   "metadata": {},
   "source": [
    "## Multinomial Naive Bayes Classifier(MNBC) - used to assign my data to classes based on the statistical analysis of their contents."
   ]
  },
  {
   "cell_type": "code",
   "execution_count": null,
   "id": "33efb3d8",
   "metadata": {},
   "outputs": [],
   "source": [
    "# i also want to use Multinomial Naive Bayes Classifier\n",
    "model_naive_stem = MultinomialNB().fit(X_train_vec_stem, y_train_stem)\n",
    "# perform classification and prediction on X_test\n",
    "y_pred_cvstmn = model_naive_stem.predict(X_test_vec_stem)\n",
    "conf_mat_cvstmn = confusion_matrix(y_test_stem, y_pred_cvstmn)\n",
    "precision_cvstmn = precision_score(y_test_stem, y_pred_cvstmn, average='macro')\n",
    "f1_cvstmn = f1_score(y_test_stem, y_pred_cvstmn, average='macro')\n",
    "# fit the SVC Model based on the given training data with lemmatizer\n",
    "model_naive_lem = MultinomialNB().fit(X_train_vec_lem, y_train_lem)\n",
    "y_pred_mncvlem = model_naive_lem.predict(X_test_vec_lem)\n",
    "conf_mat_mncvlem = confusion_matrix(y_test_lem, y_pred_mncvlem)\n",
    "precision_mncvlem = precision_score(y_test_lem, y_pred_mncvlem, average='macro')\n",
    "f1_mncvlemw = f1_score(y_test_lem, y_pred_mncvlem, average='macro')\n",
    "\n",
    "#Bag of Words(BOW) with stemmer on N-gram with stem\n",
    "# fit the SVC Model based on the given training data\n",
    "y_pred_ngMcst = MultinomialNB().fit(X_train_ngstem, y_train_stem).predict(X_test_ngstem)\n",
    "# perform classification and prediction on samples in the X_test\n",
    "conf_mat_ngMcst = confusion_matrix(y_test_stem, y_pred_ngMcst)\n",
    "precision_ngMcst = precision_score(y_test_stem, y_pred_ngMcst, average='macro')\n",
    "f1_ngMcst = f1_score(y_test_stem, y_pred_ngMcst, average='macro')\n",
    "#Bag of Words(BOW) with stemmer on N-gram with lem\n",
    "# fit the SVC Model based on the given training data with lemm\n",
    "y_pred_ngMcl = MultinomialNB().fit(X_train_nglem, y_train_lem).predict(X_test_nglem)\n",
    "# perform classification and prediction on samples in the X_test\n",
    "conf_mat_ngMcl = confusion_matrix(y_test_lem, y_pred_ngMcl)\n",
    "precision_ngMcl = precision_score(y_test_lem, y_pred_ngMcl, average='macro')\n",
    "f1_ngMlem = f1_score(y_test_lem, y_pred_ngMcl, average='macro')\n",
    "\n",
    "#Tfidf with Stemmer\n",
    "# fit the SVC Model based on the given training data\n",
    "y_pred_mnstfidf = MultinomialNB().fit(X_train_tfidfst, y_train_stem).predict(X_test_tfidfst)\n",
    "# perform classification and prediction on samples in the X_test\n",
    "conf_mat_mnstfidf = confusion_matrix(y_test_stem, y_pred_mnstfidf)\n",
    "precision_mnstfidf = precision_score(y_test_stem, y_pred_mnstfidf, average='macro')\n",
    "f1_tfidf = f1_score(y_test_stem, y_pred_mnstfidf, average='macro')\n",
    "\n",
    "#Tfidf with lemmer\n",
    "# fit the SVC Model based on the given training data\n",
    "y_pred_mnltfidf = MultinomialNB().fit(X_train_tfidflm, y_train_lem).predict(X_test_tfidflm)\n",
    "# perform classification and prediction on samples in the X_test\n",
    "conf_mat_mnltfidf = confusion_matrix(y_test_lem, y_pred_mnstfidf)\n",
    "precision_mnltfidf = precision_score(y_test_lem, y_pred_mnstfidf, average='macro')\n",
    "f1_tfidfl = f1_score(y_test_lem, y_pred_mnstfidf, average='macro')\n",
    "\n",
    "#Tfidf with stemmer on N-gram with stem\n",
    "# fit the logistic regressing Model based on the given training data with stem\n",
    "y_pred_MNSngcv = MultinomialNB().fit(X_train_ngtfidfst, y_train_stem).predict(X_test_ngtfidfst)\n",
    "# perform classification and prediction on samples in the X_test\n",
    "conf_mat_MNSngcv = confusion_matrix(y_test_stem, y_pred_MNSngcv)\n",
    "precision_MNSngcv = precision_score(y_test_stem, y_pred_MNSngcv, average='macro')\n",
    "f1_ngMcv = f1_score(y_test_stem, y_pred_MNSngcv, average='macro')\n",
    "\n",
    "#Tfidf with lemmer on N-gram with lem\n",
    "# fit the logistic regressing Model based on the given training data woth lemm\n",
    "y_pred_MNSngL = MultinomialNB().fit(X_train_ngtfidflm, y_train_stem).predict(X_test_ngtfidflm)\n",
    "# perform classification and prediction on samples in the X_test\n",
    "conf_mat_MNSngL = confusion_matrix(y_test_lem, y_pred_MNSngL)\n",
    "precision_MNSngL = precision_score(y_test_lem, y_pred_MNSngL, average='macro')\n",
    "f1_nglcv = f1_score(y_test_stem, y_pred_MNSngL, average='macro')\n",
    "\n",
    "print(\"stem CountV on NaiveB: \", classification_report(y_test_stem, y_pred_cvstmn))\n",
    "print(\"lem CountV on NaiveB: \", classification_report(y_test_lem, y_pred_mncvlem))\n",
    "print(\"N-gram stem CountV on NaiveB: \", classification_report(y_test_lem, y_pred_ngMcst))\n",
    "print(\"N-gram lem Count on NaiveB: \", classification_report(y_test_lem, y_pred_ngMcl))\n",
    "print(\"stem Tfidf on NaiveB: \", classification_report(y_test_stem, y_pred_mnstfidf))\n",
    "print(\"lem Tfidf on NaiveB: \", classification_report(y_test_lem, y_pred_mnltfidf))\n",
    "print(\"N-gram stem Tfidf on NaiveB: \", classification_report(y_test_stem, y_pred_MNSngcv))\n",
    "print(\"N-gram lem Tfidf on NaiveB: \", classification_report(y_test_lem, y_pred_MNSngL))\n",
    "\n",
    "print(\"Confusion Matrix for MNBC on BOW stem: \", conf_mat_cvstmn)\n",
    "print(\"Confusion Matrix for MNBC on BOW lem: \", conf_mat_mncvlem)\n",
    "print(\"Accuracy score for MNBC BOW stem: \", accuracy_score(y_test_stem, y_pred_cvstmn) * 100, '%', ', ', \"Precision: \", precision_cvstmn * 100, '%', ', ', \"F1: \", f1_cvstmn)\n",
    "print(\"Accuracy score for MNBC on BOW lem: \", accuracy_score(y_test_lem, y_pred_mncvlem) * 100, '%', ', ', \"Precision: \", precision_mncvlem * 100, '%', ', ', \"F1: \", f1_mncvlemw)\n",
    "print(\"Confusion Matrix for MNBC with N-gram stemmed Count: \", conf_mat_ngMcst)\n",
    "print(\"Confusion Matrix for MNBC with N-gram lem Count: \", conf_mat_ngMcl)\n",
    "print(\"Accuracy score for MNBC with N-gram stemmed Count: \", accuracy_score(y_test_stem, y_pred_ngMcst) * 100, '%', ', ', \"Precision: \", precision_ngMcst * 100, ', ', '%', \"F1: \", f1_ngMcst)\n",
    "print(\"Accuracy score for MNBC with N-gram lem Count: \", accuracy_score(y_test_lem, y_pred_ngMcl) * 100, '%', ', ', \"Precision: \", precision_ngMcl * 100, ', ', '%', \"F1: \", f1_ngMlem)\n",
    "print(\"Confusion Matrix for MNBC with stem Tfidf: \", conf_mat_mnstfidf)\n",
    "print(\"Confusion Matrix for MNBC with lem Tfidf: \", conf_mat_mnltfidf)\n",
    "print(\"Accuracy score for MNBC with stem Tfidf: \", accuracy_score(y_test_stem, y_pred_mnstfidf) * 100, '%', ', ', \"Precision: \", precision_mnstfidf * 100, '%', ', ', \"F1: \", f1_tfidf)\n",
    "print(\"Accuracy score for MNBC with lem Tfidf: \", accuracy_score(y_test_lem, y_pred_mnltfidf) * 100, '%', ', ', \"Precision: \", precision_mnltfidf * 100, '%', ', ', \"F1: \", f1_tfidfl)\n",
    "print(\"Confusion Matrix for MNBC with N-gram stemmed tfidf: \", conf_mat_MNSngL)\n",
    "print(\"Confusion Matrix for MNBC with N-gram lem tfidf: \", conf_mat_MNSngL)\n",
    "print(\"Accuracy score for MNBC with N-gram stemmed tfidf: \", accuracy_score(y_test_stem, y_pred_MNSngcv) * 100, '%', ', ', \"Precision: \", precision_MNSngcv * 100, ', ', '%', \"F1: \", f1_ngMcv)\n",
    "print(\"Accuracy score for MNBC with N-gram lem tfidf: \", accuracy_score(y_test_lem, y_pred_MNSngL) * 100, '%', ', ', \"Precision: \", precision_MNSngL * 100, ', ', '%', \"F1: \", f1_nglcv)\n",
    "\n",
    "#CountVectorizer with Stemmed on Word2Vect\n",
    "#With Multinomial Naive Bayes Classifier\n",
    "#it's giving ValueError: Negative values in data passed to MultinomialNB (input X)\n",
    "\n"
   ]
  },
  {
   "cell_type": "markdown",
   "id": "83f8300d",
   "metadata": {},
   "source": [
    "## Perceptron - used on this supervised learning to classify my data"
   ]
  },
  {
   "cell_type": "code",
   "execution_count": null,
   "id": "cc84e0f9",
   "metadata": {},
   "outputs": [],
   "source": [
    "clf = Perceptron(random_state=0)\n",
    "prob_stpcpbw = clf.fit(X_train_vec_stem, y_train_stem)\n",
    "# perform classification and prediction on samples in the X_test\n",
    "y_pred_stpcpbw = prob_stpcpbw.predict(X_test_vec_stem)\n",
    "conf_mat_stpcpbw = confusion_matrix(y_test_stem, y_pred_stpcpbw)\n",
    "precision_stpcpbw = precision_score(y_test_stem, y_pred_stpcpbw, average='macro')\n",
    "f1_stpcpbw = f1_score(y_test_stem, y_pred_stpcpbw, average='macro')\n",
    "# fit the PCP Model based on the given training data with lemmatizer\n",
    "y_pred_lmpcpbw = clf.fit(X_train_vec_lem, y_train_lem).predict(X_test_vec_lem)\n",
    "# perform classification and prediction on samples in the X_test\n",
    "conf_mat_lmpcpbw = confusion_matrix(y_test_lem, y_pred_lmpcpbw)\n",
    "precision_lmpcpbw = precision_score(y_test_lem, y_pred_lmpcpbw, average='macro')\n",
    "f1_lmpcpbw = f1_score(y_test_lem, y_pred_lmpcpbw, average='macro')\n",
    "\n",
    "\n",
    "#Bag of Words(BOW) with stemmer on N-gram with stem\n",
    "# fit the Perceptron Model based on the given training data\n",
    "y_pred_pngcv = clf.fit(X_train_ngstem, y_train_stem).predict(X_test_ngstem)\n",
    "# perform classification and prediction on samples in the X_test\n",
    "conf_mat_pngcv = confusion_matrix(y_test_stem, y_pred_pngcv)\n",
    "precision_pngcv = precision_score(y_test_stem, y_pred_pngcv, average='macro')\n",
    "f1_pngcv = f1_score(y_test_stem, y_pred_pngcv, average='macro')\n",
    "#Bag of Words(BOW) with stemmer on N-gram with lem\n",
    "# fit the SVC Model based on the given training data with lemm\n",
    "y_pred_pngcvl = clf.fit(X_train_nglem, y_train_stem).predict(X_test_nglem)\n",
    "# perform classification and prediction on samples in the X_test\n",
    "conf_mat_pngcvl = confusion_matrix(y_test_stem, y_pred_pngcvl)\n",
    "precision_pngcvl = precision_score(y_test_stem, y_pred_pngcvl, average='macro')\n",
    "f1_pngcvl = f1_score(y_test_stem, y_pred_pngcvl, average='macro')\n",
    "\n",
    "#Tfidf with Stemmer\n",
    "# fit the SVC Model based on the given training data\n",
    "y_pred_pcvtfidf = clf.fit(X_train_tfidfst, y_train_stem).predict(X_test_tfidfst)\n",
    "# perform classification and prediction on samples in the X_test\n",
    "conf_mat_pcvtfidf = confusion_matrix(y_test_stem, y_pred_pcvtfidf)\n",
    "precision_pcvtfidf = precision_score(y_test_stem, y_pred_pcvtfidf, average='macro')\n",
    "f1_pcvtfidf = f1_score(y_test_stem, y_pred_pcvtfidf, average='macro')\n",
    "#Tfidf with lemmer\n",
    "# fit the SVC Model based on the given training data\n",
    "y_pred_pcltfidf = clf.fit(X_train_tfidflm, y_train_lem).predict(X_test_tfidflm)\n",
    "# perform classification and prediction on samples in the X_test\n",
    "conf_mat_pcltfidf = confusion_matrix(y_test_lem, y_pred_pcltfidf)\n",
    "precision_pcltfidf = precision_score(y_test_lem, y_pred_pcltfidf, average='macro')\n",
    "f1_pcltfidf = f1_score(y_test_lem, y_pred_pcltfidf, average='macro')\n",
    "\n",
    "\n",
    "#Tfidf with stemmer on N-gram with stem\n",
    "# fit the logistic regressing Model based on the given training data with stem\n",
    "# and also perform classification and prediction on samples in the X_test\n",
    "y_pred_ngpvs = clf.fit(X_train_ngtfidfst, y_train_stem).predict(X_test_ngtfidfst)\n",
    "conf_mat_ngpvs = confusion_matrix(y_test_stem, y_pred_ngpvs)\n",
    "precision_ngpvs = precision_score(y_test_stem, y_pred_ngpvs, average='macro')\n",
    "f1_ngpvs = f1_score(y_test_stem, y_pred_ngpvs, average='macro')\n",
    "#Tfidf with stemmer on N-gram with stem\n",
    "# fit the logistic regressing Model based on the given training data woth lemm\n",
    "y_pred_ngpvl = clf.fit(X_train_ngtfidflm, y_train_stem).predict(X_test_ngtfidflm)\n",
    "# perform classification and prediction on samples in the X_test\n",
    "conf_mat_ngpvl = confusion_matrix(y_test_stem, y_pred_ngpvl)\n",
    "precision_ngpvl = precision_score(y_test_stem, y_pred_ngpvl, average='macro')\n",
    "f1_ngpvl = f1_score(y_test_stem, y_pred_ngpvl, average='macro')\n",
    "\n",
    "#CountVectorizer with Stemmed on Word2Vect\n",
    "# fit the SVC Model based on the given training data\n",
    "# and perform classification and prediction on samples in the X_test\n",
    "y_pred_stpw = clf.fit(X_train_stemwv, y_train_stemwv).predict(X_test_stemwv)\n",
    "conf_mat_stpw = confusion_matrix(y_test_stemwv, y_pred_stpw)\n",
    "precision_stpw = precision_score(y_test_stemwv, y_pred_stpw, average='macro')\n",
    "f1_stpw = f1_score(y_test_stemwv, y_pred_stpw, average='macro')\n",
    "#Tfidf with lemmed on Word2Vect\n",
    "# fit the SVC Model based on the given training data\n",
    "# and perform classification and prediction on samples in the X_test\n",
    "y_pred_ltpw = clf.fit(X_train_lemwv, y_train_lemwv).predict(X_test_lemwv)\n",
    "conf_mat_ltpw = confusion_matrix(y_test_lemwv, y_pred_ltpw)\n",
    "precision_ltpw = precision_score(y_test_lemwv, y_pred_ltpw, average='macro')\n",
    "f1_ltpw = f1_score(y_test_stemwv, y_pred_ltpw, average='macro')\n",
    "\n",
    "print(\"stem CountV on Pcp: \", classification_report(y_test_stem, y_pred_stpcpbw))\n",
    "print(\"lem CountV on Pcp: \", classification_report(y_test_lem, y_pred_lmpcpbw))\n",
    "print(\"N-gram stem CountV on Pcp: \", classification_report(y_test_stem, y_pred_pngcv))\n",
    "print(\"N-gram lem Count on Pcp: \", classification_report(y_test_lem, y_pred_pngcvl))\n",
    "print(\"stem Tfidf on Pcp: \", classification_report(y_test_stem, y_pred_pcvtfidf))\n",
    "print(\"lem Tfidf on Pcp: \", classification_report(y_test_lem, y_pred_pcltfidf))\n",
    "print(\"N-gram stem Tfidf on Pcp: \", classification_report(y_test_stem, y_pred_ngpvs))\n",
    "print(\"N-gram lem Tfidf on Pcp: \", classification_report(y_test_lem, y_pred_ngpvl))\n",
    "print(\"stemWord2Vect on Pcp: \", classification_report(y_test_stem, y_pred_stpw))\n",
    "print(\"lemWord2Vect on Pcp: \", classification_report(y_test_lem, y_pred_ltpw))\n",
    "\n",
    "print(\"Confusion Matrix on BOW Perceptron stem: \", conf_mat_stpcpbw)\n",
    "print(\"Confusion Matrix on BOW Perceptron lem: \", conf_mat_lmpcpbw)\n",
    "print(\"Accuracy score for Perceptron BOW stem: \", accuracy_score(y_test_stem, y_pred_stpcpbw) * 100, '%', ', ', \"Precision: \", precision_stpcpbw * 100, '%', ', ', \"F1: \", f1_stpcpbw)\n",
    "print(\"Accuracy score for Perceptron BOW lem: \", accuracy_score(y_test_stem, y_pred_lmpcpbw) * 100, '%', ', ', \"Precision: \", precision_stpcpbw * 100, '%', ', ', \"F1: \", f1_lmpcpbw)\n",
    "print(\"Confusion Matrix with N-gram stemmed Count: \", conf_mat_pngcv)\n",
    "print(\"Confusion Matrix with N-gram lem Count: \", conf_mat_pngcvl)\n",
    "print(\"Accuracy score for Perceptron with N-gram stemmed Count: \", accuracy_score(y_test_stem, y_pred_pngcv) * 100, '%', ', ', \"Precision: \", precision_pngcv * 100, ', ', '%', \"F1: \", f1_pngcv)\n",
    "print(\"Accuracy score for Perceptron with N-gram lem Count: \", accuracy_score(y_test_stem, y_pred_pngcvl) * 100, '%', ', ', \"Precision: \", precision_pngcvl * 100, ', ', '%', \"F1: \", f1_pngcvl)\n",
    "print(\"Confusion Matrix for Perceptron with stem Tfidf: \", conf_mat_pcvtfidf)\n",
    "print(\"Confusion Matrix for Perceptron with lem Tfidf: \", conf_mat_pcltfidf)\n",
    "print(\"Accuracy score for Perceptron with stem Tfidf: \", accuracy_score(y_test_stem, y_pred_pcvtfidf) * 100, '%', ', ', \"Precision: \", precision_pcvtfidf * 100, '%', ', ', \"F1: \", f1_pcvtfidf)\n",
    "print(\"Accuracy score for Perceptron with lem Tfidf: \", accuracy_score(y_test_lem, y_pred_pcltfidf) * 100, '%', ', ', \"Precision: \", precision_pcltfidf * 100, '%', ', ', \"F1: \", f1_pcltfidf)\n",
    "print(\"Confusion Matrix with N-gram stemmed tfidf: \", conf_mat_ngpvs)\n",
    "print(\"Confusion Matrix with N-gram lem tfidf: \", conf_mat_ngpvl)\n",
    "print(\"Accuracy score for Perceptron with N-gram stemmed tfidf: \", accuracy_score(y_test_stem, y_pred_ngpvs) * 100, '%', ', ', \"Precision: \", precision_ngpvs * 100, ', ', '%', \"F1: \", f1_ngpvs)\n",
    "print(\"Accuracy score for Perceptron with N-gram lem tfidf: \", accuracy_score(y_test_stem, y_pred_ngpvl) * 100, '%', ', ', \"Precision: \", precision_ngpvl * 100, ', ', '%', \"F1: \", f1_ngpvl)\n",
    "print(\"Confusion Matrix on Perceptron with stemWord2Vect: \", conf_mat_stpw)\n",
    "print(\"Confusion Matrix on Perceptron with lemWord2Vect: \", conf_mat_ltpw)\n",
    "print(\"Accuracy score for Perceptron with StemWord2Vect: \", accuracy_score(y_test_stemwv, y_pred_stpw) * 100, '%', ', ',\"Precision: \", precision_stpw * 100, '%', ', ', \":  F1: \", f1_stpw)\n",
    "print(\"Accuracy score for Perceptron with LemWord2Vect: \", accuracy_score(y_test_lemwv, y_pred_ltpw) * 100, '%', ', ',\"Precision: \", precision_ltpw * 100, '%', ', ', \":  F1: \", f1_ltpw)\n",
    "\n"
   ]
  },
  {
   "cell_type": "markdown",
   "id": "fb9dac6f",
   "metadata": {},
   "source": [
    "## KNeighborsClassifier - To classify my data point on how its neighbor is classified."
   ]
  },
  {
   "cell_type": "code",
   "execution_count": null,
   "id": "1de394b8",
   "metadata": {},
   "outputs": [],
   "source": [
    "# Calculate regression metrics\n",
    "KNN = KNeighborsClassifier()\n",
    "y_pred_bsKNN = KNN.fit(X_train_vec_stem, y_train_stem).predict(X_test_vec_stem)\n",
    "#Bag of Words(BOW) with stemmer\n",
    "conf_mat_bsKNN = confusion_matrix(y_test_stem, y_pred_bsKNN)\n",
    "precision_bsKNN = precision_score(y_test_stem, y_pred_bsKNN, average='macro')\n",
    "f1_bsKNN = f1_score(y_test_stem, y_pred_bsKNN, average='macro')\n",
    "#Bag of Words(BOW) with lemmer\n",
    "prob_blKNN = KNN.fit(X_train_vec_lem, y_train_lem).predict(X_test_vec_lem)\n",
    "# perform classification and prediction on samples in the X_test\n",
    "y_pred_blKNN = KNN.predict(X_test_vec_lem)\n",
    "conf_mat_blKNN = confusion_matrix(y_test_lem, y_pred_blKNN)\n",
    "precision_blKNN = precision_score(y_test_lem, y_pred_blKNN, average='macro')\n",
    "f1_blKNN = f1_score(y_test_lem, y_pred_blKNN, average='macro')\n",
    "\n",
    "#Bag of Words(BOW) with stemmer on N-gram with stem\n",
    "# fit the SVC Model based on the given training data\n",
    "y_pred_ngKNNbs = KNN.fit(X_train_ngstem, y_train_stem).predict(X_test_ngstem)\n",
    "# perform classification and prediction on samples in the X_test\n",
    "conf_mat_ngKNNbs = confusion_matrix(y_test_stem, y_pred_ngKNNbs)\n",
    "precision_ngKNNbs = precision_score(y_test_stem, y_pred_ngKNNbs, average='macro')\n",
    "f1_ngKNNbs = f1_score(y_test_stem, y_pred_ngKNNbs, average='macro')\n",
    "#Bag of Words(BOW) with stemmer on N-gram with lem\n",
    "# fit the SVC Model based on the given training data with lemm\n",
    "y_pred_ngKNNbl = KNN.fit(X_train_nglem, y_train_lem).predict(X_test_nglem)\n",
    "# perform classification and prediction on samples in the X_test\n",
    "conf_mat_ngKNNbl = confusion_matrix(y_test_lem, y_pred_ngKNNbl)\n",
    "precision_ngKNNbl = precision_score(y_test_lem, y_pred_ngKNNbl, average='macro')\n",
    "f1_ngKNNbl = f1_score(y_test_stem, y_pred_ngKNNbl, average='macro')\n",
    "\n",
    "#Tfidf with Stemmer\n",
    "# fit the KNN Model based on the given training data\n",
    "y_pred_tfidfks = KNN.fit(X_train_tfidfst, y_train_stem).predict(X_test_tfidfst)\n",
    "# perform classification and prediction on samples in the X_test\n",
    "conf_mat_tfidfks = confusion_matrix(y_test_stem, y_pred_tfidfks)\n",
    "precision_tfidfks = precision_score(y_test_stem, y_pred_tfidfks, average='macro')\n",
    "f1_tfidfks = f1_score(y_test_stem, y_pred_tfidfks, average='macro')\n",
    "#Tfidf with lemmer\n",
    "# fit the SVC Model based on the given training data\n",
    "y_pred_tfidfkL = KNN.fit(X_train_tfidflm, y_train_lem).predict(X_test_tfidflm)\n",
    "# perform classification and prediction on samples in the X_test\n",
    "conf_mat_tfidfkL = confusion_matrix(y_test_lem, y_pred_tfidfkL)\n",
    "precision_tfidfkL = precision_score(y_test_lem, y_pred_tfidfkL, average='macro')\n",
    "f1_tfidfkL = f1_score(y_test_lem, y_pred_tfidfkL, average='macro')\n",
    "\n",
    "#Tfidf with stemmer on N-gram with stem\n",
    "# fit the logistic regressing Model based on the given training data with stem\n",
    "y_pred_ngkvs = KNN.fit(X_train_ngstem, y_train_stem).predict(X_test_ngstem)\n",
    "# perform classification and prediction on samples in the X_test\n",
    "conf_mat_ngkvs = confusion_matrix(y_test_stem, y_pred_ngkvs)\n",
    "precision_ngkvs = precision_score(y_test_stem, y_pred_ngkvs, average='macro')\n",
    "f1_ngkvs = f1_score(y_test_stem, y_pred_ngkvs, average='macro')\n",
    "#Tfidf with stemmer on N-gram with stem\n",
    "# fit the KNN based on the given training data woth lemm\n",
    "y_pred_ngkvl = KNN.fit(X_train_nglem, y_train_stem).predict(X_test_nglem)\n",
    "# perform classification and prediction on samples in the X_test\n",
    "conf_mat_ngkvl = confusion_matrix(y_test_lem, y_pred_ngkvl)\n",
    "precision_ngkvl = precision_score(y_test_lem, y_pred_ngkvl, average='macro')\n",
    "f1_ngkvl = f1_score(y_test_stem, y_pred_ngkvl, average='macro')\n",
    "\n",
    "#CountVectorizer with Stemmed on Word2Vect\n",
    "# fit the SVC Model based on the given training data\n",
    "y_pred_Kvsw = KNN.fit(X_train_stemwv, y_train_stemwv).predict(X_test_stemwv)\n",
    "# perform classification and prediction on lemmed with Word2Vect\n",
    "conf_mat_Kvsw = confusion_matrix(y_test_stemwv, y_pred_Kvsw)\n",
    "precision_Kvsw = precision_score(y_test_stemwv, y_pred_Kvsw, average='macro')\n",
    "f1_Kvsw = f1_score(y_test_stemwv, y_pred_Kvsw, average='macro')\n",
    "#CountVectorizer with lemmertizer on Word2Vect\n",
    "# fit the SVC Model based on the given training data\n",
    "y_pred_Ktlw = KNN.fit(X_train_lemwv, y_train_lemwv).predict(X_test_lemwv)\n",
    "# perform classification and prediction on lemmed with Word2Vect\n",
    "conf_mat_Ktlw = confusion_matrix(y_test_lemwv, y_pred_Ktlw)\n",
    "precision_Ktlw = precision_score(y_test_lemwv, y_pred_Ktlw, average='macro')\n",
    "f1_Ktlw = f1_score(y_test_stemwv, y_pred_Ktlw, average='macro')\n",
    "\n",
    "print(\"stem CountV on KNN: \", classification_report(y_test_stem, y_pred_bsKNN))\n",
    "print(\"lem CountV on KNN: \", classification_report(y_test_lem, y_pred_blKNN))\n",
    "print(\"N-gram stem CountV on KNN: \", classification_report(y_test_stem, y_pred_ngKNNbs))\n",
    "print(\"N-gram lem Count on KNN: \", classification_report(y_test_lem, y_pred_ngKNNbl))\n",
    "print(\"stem Tfidf on KNN: \", classification_report(y_test_stem, y_pred_tfidfks))\n",
    "print(\"lem Tfidf on KNN: \", classification_report(y_test_lem, y_pred_tfidfkL))\n",
    "print(\"N-gram stem Tfidf on KNN: \", classification_report(y_test_stem, y_pred_ngkvs))\n",
    "print(\"N-gram lem Tfidf on KNN: \", classification_report(y_test_lem, y_pred_ngkvl))\n",
    "print(\"stemWord2Vect on KNN: \", classification_report(y_test_stemwv, y_pred_Kvsw))\n",
    "print(\"lemWord2Vect on KNN: \", classification_report(y_test_lemwv, y_pred_Ktlw))\n",
    "print(\"Confusion Matrix on KNN using BOW stem: \", conf_mat_bsKNN)\n",
    "print(\"Confusion Matrix on KNN using  BOW lem: \", conf_mat_blKNN)\n",
    "print(\"Accuracy score for KNN on BOW stem: \", accuracy_score(y_test_stem, y_pred_bsKNN) * 100, '%', ', ', \"Precision: \", precision_bsKNN * 100, '%', ', ', \"F1: \", f1_bsKNN)\n",
    "print(\"Accuracy score for SVM on BOW lem: \", accuracy_score(y_test_lem, y_pred_blKNN) * 100, '%', ', ', \"Precision: \", precision_blKNN * 100, '%', ', ', \"F1: \", f1_blKNN)\n",
    "print(\"Confusion Matrix with N-gram stemmed Count: \", conf_mat_ngKNNbs)\n",
    "print(\"Confusion Matrix with N-gram lem Count: \", conf_mat_ngKNNbl)\n",
    "print(\"Accuracy score for SVM with N-gram stemmed Count: \", accuracy_score(y_test_stem, y_pred_ngKNNbs) * 100, '%', ', ', \"Precision: \", precision_ngKNNbs * 100, ', ', '%', \"F1: \", f1_ngKNNbs)\n",
    "print(\"Accuracy score for SVM with N-gram lem Count: \", accuracy_score(y_test_lem, y_pred_ngKNNbl) * 100, '%', ', ', \"Precision: \", precision_ngKNNbl * 100, ', ', '%', \"F1: \", f1_ngKNNbl)\n",
    "print(\"Confusion Matrix for KNN with stem Tfidf: \", conf_mat_tfidfks)\n",
    "print(\"Confusion Matrix for KNN with lem Tfidf: \", conf_mat_tfidfkL)\n",
    "print(\"Accuracy score for KNN with stem Tfidf: \", accuracy_score(y_test_stem, y_pred_tfidfks) * 100, '%', ', ', \"Precision: \", precision_tfidfks * 100, '%', ', ', \"F1: \", f1_tfidfks)\n",
    "print(\"Accuracy score for KNN with lem Tfidf: \", accuracy_score(y_test_lem, y_pred_tfidfkL) * 100, '%', ', ', \"Precision: \", precision_tfidfkL * 100, '%', ', ', \"F1: \", f1_tfidfkL)\n",
    "print(\"Confusion Matrix with N-gram stemmed tfidf on KNN: \", conf_mat_ngkvs)\n",
    "print(\"Confusion Matrix with N-gram lem tfidf on KNN: \", conf_mat_ngkvl)\n",
    "print(\"Accuracy score for KNN with N-gram stemmed tfidf: \", accuracy_score(y_test_stem, y_pred_ngkvs) * 100, '%', ', ', \"Precision: \", precision_ngkvs * 100, ', ', '%', \"F1: \", f1_ngkvs)\n",
    "print(\"Accuracy score for KNN with N-gram lem tfidf: \", accuracy_score(y_test_lem, y_pred_ngkvl) * 100, '%', ', ', \"Precision: \", precision_ngkvl * 100, ', ', '%', \"F1: \", f1_ngkvl)\n",
    "print(\"Confusion Matrix: \", conf_mat_Kvsw)\n",
    "print(\"Confusion Matrix: \", conf_mat_Ktlw)\n",
    "print(\"Accuracy score for KNN: \", accuracy_score(y_test_stemwv, y_pred_Kvsw) * 100, '%', ', ',\"Precision: \", precision_Kvsw * 100, '%', ', ', \":  F1: \", f1_Kvsw)\n",
    "print(\"Accuracy score for KNN: \", accuracy_score(y_test_lemwv, y_pred_Ktlw) * 100, '%', ', ',\"Precision: \", precision_Ktlw * 100, '%', ', ', \":  F1: \", f1_Ktlw)\n",
    "\n"
   ]
  },
  {
   "cell_type": "code",
   "execution_count": null,
   "id": "089235be",
   "metadata": {},
   "outputs": [],
   "source": []
  }
 ],
 "metadata": {
  "kernelspec": {
   "display_name": "Python 3 (ipykernel)",
   "language": "python",
   "name": "python3"
  },
  "language_info": {
   "codemirror_mode": {
    "name": "ipython",
    "version": 3
   },
   "file_extension": ".py",
   "mimetype": "text/x-python",
   "name": "python",
   "nbconvert_exporter": "python",
   "pygments_lexer": "ipython3",
   "version": "3.11.5"
  }
 },
 "nbformat": 4,
 "nbformat_minor": 5
}
