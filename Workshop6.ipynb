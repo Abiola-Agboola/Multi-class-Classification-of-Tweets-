{
 "cells": [
  {
   "cell_type": "code",
   "execution_count": null,
   "id": "a39c2637",
   "metadata": {},
   "outputs": [
    {
     "name": "stdout",
     "output_type": "stream",
     "text": [
      "showing info https://raw.githubusercontent.com/nltk/nltk_data/gh-pages/index.xml\n"
     ]
    }
   ],
   "source": [
    "#TO DOWNLOAD ALL THE NLTK PACKAGES,\n",
    "import nltk\n",
    "import ssl\n",
    "\n",
    "try:\n",
    "    _create_unverified_https_context = ssl._create_unverified_context\n",
    "except AttributeError:\n",
    "    pass\n",
    "else:\n",
    "    ssl._create_default_https_context = _create_unverified_https_context\n",
    "nltk.download()"
   ]
  },
  {
   "cell_type": "code",
   "execution_count": null,
   "id": "ec994d91",
   "metadata": {},
   "outputs": [],
   "source": [
    "pip install nltk==3.5"
   ]
  },
  {
   "cell_type": "code",
   "execution_count": null,
   "id": "f177122b",
   "metadata": {},
   "outputs": [],
   "source": [
    "pip install numpy matplotlib"
   ]
  },
  {
   "cell_type": "code",
   "execution_count": null,
   "id": "dda0cd21",
   "metadata": {},
   "outputs": [],
   "source": [
    "from nltk.tokenize import sent_tokenize, word_tokenize"
   ]
  },
  {
   "cell_type": "code",
   "execution_count": null,
   "id": "33a14279",
   "metadata": {},
   "outputs": [],
   "source": [
    "from nltk.stem import PorterStemmer\n",
    "stemmer = PorterStemmer()\n",
    "example_string = \"\"\"\n",
    "... Muad'Dib learned rapidly because his first training was in how to learn.\n",
    "... And the first lesson of all was the basic trust that he could learn.\n",
    "... It's shocking to find how many people do not believe they can learn,\n",
    "... and how many more believe learning to be difficult.\"\"\"\n",
    "for w in example_string:\n",
    "    print(stemmer.stem(w))"
   ]
  },
  {
   "cell_type": "code",
   "execution_count": null,
   "id": "b3b04ea1",
   "metadata": {},
   "outputs": [],
   "source": [
    "#Exercise 1\n",
    "from nltk.stem import PorterStemmer\n",
    "stemmer = PorterStemmer()\n",
    "words = [\"meet\", \"meeting\", \"met\", \"days\", \"day\", \"today\", \n",
    "\"typical\", \"atypical\"]\n",
    "for w in words:\n",
    "    print(stemmer.stem(w))"
   ]
  },
  {
   "cell_type": "code",
   "execution_count": null,
   "id": "84df371a",
   "metadata": {},
   "outputs": [],
   "source": [
    "#Exercise 2\n",
    "from nltk.stem import WordNetLemmatizer\n",
    "lemmer = WordNetLemmatizer()\n",
    "wrds = [\"meet\", \"meeting\", \"met\", \"days\", \"day\", \"today\", \n",
    "\"typical\", \"atypical\"]\n",
    "\n",
    "for w in wrds:\n",
    "    print(lemmer.lemmatize(w))"
   ]
  },
  {
   "cell_type": "code",
   "execution_count": null,
   "id": "c5a0007a",
   "metadata": {},
   "outputs": [],
   "source": [
    "#Exercise 3\n",
    "print(lemmer.lemmatize(\"better\", pos='a'))"
   ]
  },
  {
   "cell_type": "code",
   "execution_count": null,
   "id": "deea2d6f",
   "metadata": {},
   "outputs": [],
   "source": [
    "#Exercise 5\n",
    "print(lemmer.lemmatize(\"worse\", pos='a'))"
   ]
  },
  {
   "cell_type": "code",
   "execution_count": null,
   "id": "948f7502",
   "metadata": {},
   "outputs": [],
   "source": [
    "#Exercise 6\n",
    "from sklearn.feature_extraction.text import TfidfVectorizer\n",
    "Tfidf_Vect = TfidfVectorizer()\n",
    "corpus = [\"A quick brown fox jumped over the lazy dog. Woof!\",\n",
    "         \"A quick brown fox jumped over the lazy dog.\"]\n",
    "A = Tfidf_Vect.fit_transform(corpus)\n",
    "print(Tfidf_Vect.get_feature_names_out())\n",
    "print(A)"
   ]
  },
  {
   "cell_type": "code",
   "execution_count": null,
   "id": "1e3f8dce",
   "metadata": {},
   "outputs": [],
   "source": [
    "#Exercise 7\n",
    "from sklearn.feature_extraction.text import TfidfVectorizer\n",
    "Tfidf_Vect = TfidfVectorizer()\n",
    "corpus = [\"A quick brown fox jumped over the lazy dog. Woof!\",\n",
    "         \"A quick brown fox jumped over the lazy dog.\",\n",
    "         \"A cute black girl was singing in the garden\"]\n",
    "A = Tfidf_Vect.fit_transform(corpus)\n",
    "print(Tfidf_Vect.get_feature_names_out())\n",
    "print(A)"
   ]
  },
  {
   "cell_type": "code",
   "execution_count": null,
   "id": "e37c98c4",
   "metadata": {},
   "outputs": [],
   "source": [
    "#Exercise 8"
   ]
  }
 ],
 "metadata": {
  "kernelspec": {
   "display_name": "Python 3 (ipykernel)",
   "language": "python",
   "name": "python3"
  },
  "language_info": {
   "codemirror_mode": {
    "name": "ipython",
    "version": 3
   },
   "file_extension": ".py",
   "mimetype": "text/x-python",
   "name": "python",
   "nbconvert_exporter": "python",
   "pygments_lexer": "ipython3",
   "version": "3.9.12"
  }
 },
 "nbformat": 4,
 "nbformat_minor": 5
}
